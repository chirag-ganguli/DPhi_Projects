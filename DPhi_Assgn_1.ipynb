{
  "nbformat": 4,
  "nbformat_minor": 0,
  "metadata": {
    "colab": {
      "name": "DPhi Assgn 1",
      "provenance": [],
      "collapsed_sections": []
    },
    "kernelspec": {
      "name": "python3",
      "display_name": "Python 3"
    }
  },
  "cells": [
    {
      "cell_type": "code",
      "metadata": {
        "id": "J8tqJcWKS_Bc",
        "colab_type": "code",
        "colab": {}
      },
      "source": [
        "import numpy as np\n",
        "import pandas as pd\n",
        "import matplotlib.pyplot as plt"
      ],
      "execution_count": 0,
      "outputs": []
    },
    {
      "cell_type": "code",
      "metadata": {
        "id": "R1R9D8lxTWVT",
        "colab_type": "code",
        "colab": {}
      },
      "source": [
        "x = pd.read_excel(\"Standard Metropolitan Areas Data - train_data.xlsx\")"
      ],
      "execution_count": 0,
      "outputs": []
    },
    {
      "cell_type": "code",
      "metadata": {
        "id": "GZrND-jvT3Ee",
        "colab_type": "code",
        "colab": {
          "base_uri": "https://localhost:8080/",
          "height": 204
        },
        "outputId": "5ff0ebb1-9c0b-4b14-a46b-ce6b15462936"
      },
      "source": [
        "x.head()"
      ],
      "execution_count": 3,
      "outputs": [
        {
          "output_type": "execute_result",
          "data": {
            "text/html": [
              "<div>\n",
              "<style scoped>\n",
              "    .dataframe tbody tr th:only-of-type {\n",
              "        vertical-align: middle;\n",
              "    }\n",
              "\n",
              "    .dataframe tbody tr th {\n",
              "        vertical-align: top;\n",
              "    }\n",
              "\n",
              "    .dataframe thead th {\n",
              "        text-align: right;\n",
              "    }\n",
              "</style>\n",
              "<table border=\"1\" class=\"dataframe\">\n",
              "  <thead>\n",
              "    <tr style=\"text-align: right;\">\n",
              "      <th></th>\n",
              "      <th>land_area</th>\n",
              "      <th>percent_city</th>\n",
              "      <th>percent_senior</th>\n",
              "      <th>physicians</th>\n",
              "      <th>hospital_beds</th>\n",
              "      <th>graduates</th>\n",
              "      <th>work_force</th>\n",
              "      <th>income</th>\n",
              "      <th>region</th>\n",
              "      <th>crime_rate</th>\n",
              "    </tr>\n",
              "  </thead>\n",
              "  <tbody>\n",
              "    <tr>\n",
              "      <th>0</th>\n",
              "      <td>1384</td>\n",
              "      <td>78.1</td>\n",
              "      <td>12.3</td>\n",
              "      <td>25627</td>\n",
              "      <td>69678</td>\n",
              "      <td>50.1</td>\n",
              "      <td>4083.9</td>\n",
              "      <td>72100</td>\n",
              "      <td>1</td>\n",
              "      <td>75.554916</td>\n",
              "    </tr>\n",
              "    <tr>\n",
              "      <th>1</th>\n",
              "      <td>3719</td>\n",
              "      <td>43.9</td>\n",
              "      <td>9.4</td>\n",
              "      <td>13326</td>\n",
              "      <td>43292</td>\n",
              "      <td>53.9</td>\n",
              "      <td>3305.9</td>\n",
              "      <td>54542</td>\n",
              "      <td>2</td>\n",
              "      <td>56.029927</td>\n",
              "    </tr>\n",
              "    <tr>\n",
              "      <th>2</th>\n",
              "      <td>3553</td>\n",
              "      <td>37.4</td>\n",
              "      <td>10.7</td>\n",
              "      <td>9724</td>\n",
              "      <td>33731</td>\n",
              "      <td>50.6</td>\n",
              "      <td>2066.3</td>\n",
              "      <td>33216</td>\n",
              "      <td>1</td>\n",
              "      <td>41.322904</td>\n",
              "    </tr>\n",
              "    <tr>\n",
              "      <th>3</th>\n",
              "      <td>3916</td>\n",
              "      <td>29.9</td>\n",
              "      <td>8.8</td>\n",
              "      <td>6402</td>\n",
              "      <td>24167</td>\n",
              "      <td>52.2</td>\n",
              "      <td>1966.7</td>\n",
              "      <td>32906</td>\n",
              "      <td>2</td>\n",
              "      <td>67.383524</td>\n",
              "    </tr>\n",
              "    <tr>\n",
              "      <th>4</th>\n",
              "      <td>2480</td>\n",
              "      <td>31.5</td>\n",
              "      <td>10.5</td>\n",
              "      <td>8502</td>\n",
              "      <td>16751</td>\n",
              "      <td>66.1</td>\n",
              "      <td>1514.5</td>\n",
              "      <td>26573</td>\n",
              "      <td>4</td>\n",
              "      <td>80.189189</td>\n",
              "    </tr>\n",
              "  </tbody>\n",
              "</table>\n",
              "</div>"
            ],
            "text/plain": [
              "   land_area  percent_city  percent_senior  ...  income  region  crime_rate\n",
              "0       1384          78.1            12.3  ...   72100       1   75.554916\n",
              "1       3719          43.9             9.4  ...   54542       2   56.029927\n",
              "2       3553          37.4            10.7  ...   33216       1   41.322904\n",
              "3       3916          29.9             8.8  ...   32906       2   67.383524\n",
              "4       2480          31.5            10.5  ...   26573       4   80.189189\n",
              "\n",
              "[5 rows x 10 columns]"
            ]
          },
          "metadata": {
            "tags": []
          },
          "execution_count": 3
        }
      ]
    },
    {
      "cell_type": "code",
      "metadata": {
        "id": "-b6nYbWMT4gh",
        "colab_type": "code",
        "colab": {
          "base_uri": "https://localhost:8080/",
          "height": 419
        },
        "outputId": "6479fca2-b120-41e3-db1a-e28cf6f83694"
      },
      "source": [
        "x"
      ],
      "execution_count": 4,
      "outputs": [
        {
          "output_type": "execute_result",
          "data": {
            "text/html": [
              "<div>\n",
              "<style scoped>\n",
              "    .dataframe tbody tr th:only-of-type {\n",
              "        vertical-align: middle;\n",
              "    }\n",
              "\n",
              "    .dataframe tbody tr th {\n",
              "        vertical-align: top;\n",
              "    }\n",
              "\n",
              "    .dataframe thead th {\n",
              "        text-align: right;\n",
              "    }\n",
              "</style>\n",
              "<table border=\"1\" class=\"dataframe\">\n",
              "  <thead>\n",
              "    <tr style=\"text-align: right;\">\n",
              "      <th></th>\n",
              "      <th>land_area</th>\n",
              "      <th>percent_city</th>\n",
              "      <th>percent_senior</th>\n",
              "      <th>physicians</th>\n",
              "      <th>hospital_beds</th>\n",
              "      <th>graduates</th>\n",
              "      <th>work_force</th>\n",
              "      <th>income</th>\n",
              "      <th>region</th>\n",
              "      <th>crime_rate</th>\n",
              "    </tr>\n",
              "  </thead>\n",
              "  <tbody>\n",
              "    <tr>\n",
              "      <th>0</th>\n",
              "      <td>1384</td>\n",
              "      <td>78.1</td>\n",
              "      <td>12.3</td>\n",
              "      <td>25627</td>\n",
              "      <td>69678</td>\n",
              "      <td>50.1</td>\n",
              "      <td>4083.9</td>\n",
              "      <td>72100</td>\n",
              "      <td>1</td>\n",
              "      <td>75.554916</td>\n",
              "    </tr>\n",
              "    <tr>\n",
              "      <th>1</th>\n",
              "      <td>3719</td>\n",
              "      <td>43.9</td>\n",
              "      <td>9.4</td>\n",
              "      <td>13326</td>\n",
              "      <td>43292</td>\n",
              "      <td>53.9</td>\n",
              "      <td>3305.9</td>\n",
              "      <td>54542</td>\n",
              "      <td>2</td>\n",
              "      <td>56.029927</td>\n",
              "    </tr>\n",
              "    <tr>\n",
              "      <th>2</th>\n",
              "      <td>3553</td>\n",
              "      <td>37.4</td>\n",
              "      <td>10.7</td>\n",
              "      <td>9724</td>\n",
              "      <td>33731</td>\n",
              "      <td>50.6</td>\n",
              "      <td>2066.3</td>\n",
              "      <td>33216</td>\n",
              "      <td>1</td>\n",
              "      <td>41.322904</td>\n",
              "    </tr>\n",
              "    <tr>\n",
              "      <th>3</th>\n",
              "      <td>3916</td>\n",
              "      <td>29.9</td>\n",
              "      <td>8.8</td>\n",
              "      <td>6402</td>\n",
              "      <td>24167</td>\n",
              "      <td>52.2</td>\n",
              "      <td>1966.7</td>\n",
              "      <td>32906</td>\n",
              "      <td>2</td>\n",
              "      <td>67.383524</td>\n",
              "    </tr>\n",
              "    <tr>\n",
              "      <th>4</th>\n",
              "      <td>2480</td>\n",
              "      <td>31.5</td>\n",
              "      <td>10.5</td>\n",
              "      <td>8502</td>\n",
              "      <td>16751</td>\n",
              "      <td>66.1</td>\n",
              "      <td>1514.5</td>\n",
              "      <td>26573</td>\n",
              "      <td>4</td>\n",
              "      <td>80.189189</td>\n",
              "    </tr>\n",
              "    <tr>\n",
              "      <th>...</th>\n",
              "      <td>...</td>\n",
              "      <td>...</td>\n",
              "      <td>...</td>\n",
              "      <td>...</td>\n",
              "      <td>...</td>\n",
              "      <td>...</td>\n",
              "      <td>...</td>\n",
              "      <td>...</td>\n",
              "      <td>...</td>\n",
              "      <td>...</td>\n",
              "    </tr>\n",
              "    <tr>\n",
              "      <th>94</th>\n",
              "      <td>1511</td>\n",
              "      <td>38.7</td>\n",
              "      <td>10.7</td>\n",
              "      <td>348</td>\n",
              "      <td>1093</td>\n",
              "      <td>50.4</td>\n",
              "      <td>127.2</td>\n",
              "      <td>1452</td>\n",
              "      <td>4</td>\n",
              "      <td>70.661017</td>\n",
              "    </tr>\n",
              "    <tr>\n",
              "      <th>95</th>\n",
              "      <td>1543</td>\n",
              "      <td>39.6</td>\n",
              "      <td>8.1</td>\n",
              "      <td>159</td>\n",
              "      <td>481</td>\n",
              "      <td>30.3</td>\n",
              "      <td>80.6</td>\n",
              "      <td>769</td>\n",
              "      <td>3</td>\n",
              "      <td>36.362069</td>\n",
              "    </tr>\n",
              "    <tr>\n",
              "      <th>96</th>\n",
              "      <td>1011</td>\n",
              "      <td>37.8</td>\n",
              "      <td>10.5</td>\n",
              "      <td>264</td>\n",
              "      <td>964</td>\n",
              "      <td>70.7</td>\n",
              "      <td>93.2</td>\n",
              "      <td>1337</td>\n",
              "      <td>3</td>\n",
              "      <td>60.163090</td>\n",
              "    </tr>\n",
              "    <tr>\n",
              "      <th>97</th>\n",
              "      <td>813</td>\n",
              "      <td>13.4</td>\n",
              "      <td>10.9</td>\n",
              "      <td>371</td>\n",
              "      <td>4355</td>\n",
              "      <td>58.0</td>\n",
              "      <td>97.0</td>\n",
              "      <td>1589</td>\n",
              "      <td>1</td>\n",
              "      <td>36.327586</td>\n",
              "    </tr>\n",
              "    <tr>\n",
              "      <th>98</th>\n",
              "      <td>654</td>\n",
              "      <td>28.8</td>\n",
              "      <td>3.9</td>\n",
              "      <td>140</td>\n",
              "      <td>1296</td>\n",
              "      <td>55.1</td>\n",
              "      <td>66.9</td>\n",
              "      <td>1148</td>\n",
              "      <td>3</td>\n",
              "      <td>68.761905</td>\n",
              "    </tr>\n",
              "  </tbody>\n",
              "</table>\n",
              "<p>99 rows × 10 columns</p>\n",
              "</div>"
            ],
            "text/plain": [
              "    land_area  percent_city  percent_senior  ...  income  region  crime_rate\n",
              "0        1384          78.1            12.3  ...   72100       1   75.554916\n",
              "1        3719          43.9             9.4  ...   54542       2   56.029927\n",
              "2        3553          37.4            10.7  ...   33216       1   41.322904\n",
              "3        3916          29.9             8.8  ...   32906       2   67.383524\n",
              "4        2480          31.5            10.5  ...   26573       4   80.189189\n",
              "..        ...           ...             ...  ...     ...     ...         ...\n",
              "94       1511          38.7            10.7  ...    1452       4   70.661017\n",
              "95       1543          39.6             8.1  ...     769       3   36.362069\n",
              "96       1011          37.8            10.5  ...    1337       3   60.163090\n",
              "97        813          13.4            10.9  ...    1589       1   36.327586\n",
              "98        654          28.8             3.9  ...    1148       3   68.761905\n",
              "\n",
              "[99 rows x 10 columns]"
            ]
          },
          "metadata": {
            "tags": []
          },
          "execution_count": 4
        }
      ]
    },
    {
      "cell_type": "code",
      "metadata": {
        "id": "mftmFCIZT731",
        "colab_type": "code",
        "colab": {}
      },
      "source": [
        "import sqlite3"
      ],
      "execution_count": 0,
      "outputs": []
    },
    {
      "cell_type": "code",
      "metadata": {
        "id": "ULVzH69ZUm5J",
        "colab_type": "code",
        "colab": {
          "base_uri": "https://localhost:8080/",
          "height": 306
        },
        "outputId": "ace6e8a5-1520-42c1-8aa9-438583c8902b"
      },
      "source": [
        "x.info()"
      ],
      "execution_count": 6,
      "outputs": [
        {
          "output_type": "stream",
          "text": [
            "<class 'pandas.core.frame.DataFrame'>\n",
            "RangeIndex: 99 entries, 0 to 98\n",
            "Data columns (total 10 columns):\n",
            " #   Column          Non-Null Count  Dtype  \n",
            "---  ------          --------------  -----  \n",
            " 0   land_area       99 non-null     int64  \n",
            " 1   percent_city    99 non-null     float64\n",
            " 2   percent_senior  99 non-null     float64\n",
            " 3   physicians      99 non-null     int64  \n",
            " 4   hospital_beds   99 non-null     int64  \n",
            " 5   graduates       99 non-null     float64\n",
            " 6   work_force      99 non-null     float64\n",
            " 7   income          99 non-null     int64  \n",
            " 8   region          99 non-null     int64  \n",
            " 9   crime_rate      99 non-null     float64\n",
            "dtypes: float64(5), int64(5)\n",
            "memory usage: 7.9 KB\n"
          ],
          "name": "stdout"
        }
      ]
    },
    {
      "cell_type": "code",
      "metadata": {
        "id": "i7Zd4r9sVGBK",
        "colab_type": "code",
        "colab": {
          "base_uri": "https://localhost:8080/",
          "height": 34
        },
        "outputId": "157d3f2d-542e-4f95-cb13-ad15ffbf9b3a"
      },
      "source": [
        "x.shape"
      ],
      "execution_count": 8,
      "outputs": [
        {
          "output_type": "execute_result",
          "data": {
            "text/plain": [
              "(99, 10)"
            ]
          },
          "metadata": {
            "tags": []
          },
          "execution_count": 8
        }
      ]
    },
    {
      "cell_type": "code",
      "metadata": {
        "id": "mAa62MM_VJ9x",
        "colab_type": "code",
        "colab": {
          "base_uri": "https://localhost:8080/",
          "height": 85
        },
        "outputId": "fe45accf-5ca8-4b6a-d8a0-838b0ca948ec"
      },
      "source": [
        "x.columns"
      ],
      "execution_count": 9,
      "outputs": [
        {
          "output_type": "execute_result",
          "data": {
            "text/plain": [
              "Index(['land_area', 'percent_city', 'percent_senior', 'physicians',\n",
              "       'hospital_beds', 'graduates', 'work_force', 'income', 'region',\n",
              "       'crime_rate'],\n",
              "      dtype='object')"
            ]
          },
          "metadata": {
            "tags": []
          },
          "execution_count": 9
        }
      ]
    },
    {
      "cell_type": "code",
      "metadata": {
        "id": "aaCXmA8-VTNQ",
        "colab_type": "code",
        "colab": {
          "base_uri": "https://localhost:8080/",
          "height": 419
        },
        "outputId": "172a1bb9-1ba2-4893-9391-398ea8c6c301"
      },
      "source": [
        "x.isnull()"
      ],
      "execution_count": 10,
      "outputs": [
        {
          "output_type": "execute_result",
          "data": {
            "text/html": [
              "<div>\n",
              "<style scoped>\n",
              "    .dataframe tbody tr th:only-of-type {\n",
              "        vertical-align: middle;\n",
              "    }\n",
              "\n",
              "    .dataframe tbody tr th {\n",
              "        vertical-align: top;\n",
              "    }\n",
              "\n",
              "    .dataframe thead th {\n",
              "        text-align: right;\n",
              "    }\n",
              "</style>\n",
              "<table border=\"1\" class=\"dataframe\">\n",
              "  <thead>\n",
              "    <tr style=\"text-align: right;\">\n",
              "      <th></th>\n",
              "      <th>land_area</th>\n",
              "      <th>percent_city</th>\n",
              "      <th>percent_senior</th>\n",
              "      <th>physicians</th>\n",
              "      <th>hospital_beds</th>\n",
              "      <th>graduates</th>\n",
              "      <th>work_force</th>\n",
              "      <th>income</th>\n",
              "      <th>region</th>\n",
              "      <th>crime_rate</th>\n",
              "    </tr>\n",
              "  </thead>\n",
              "  <tbody>\n",
              "    <tr>\n",
              "      <th>0</th>\n",
              "      <td>False</td>\n",
              "      <td>False</td>\n",
              "      <td>False</td>\n",
              "      <td>False</td>\n",
              "      <td>False</td>\n",
              "      <td>False</td>\n",
              "      <td>False</td>\n",
              "      <td>False</td>\n",
              "      <td>False</td>\n",
              "      <td>False</td>\n",
              "    </tr>\n",
              "    <tr>\n",
              "      <th>1</th>\n",
              "      <td>False</td>\n",
              "      <td>False</td>\n",
              "      <td>False</td>\n",
              "      <td>False</td>\n",
              "      <td>False</td>\n",
              "      <td>False</td>\n",
              "      <td>False</td>\n",
              "      <td>False</td>\n",
              "      <td>False</td>\n",
              "      <td>False</td>\n",
              "    </tr>\n",
              "    <tr>\n",
              "      <th>2</th>\n",
              "      <td>False</td>\n",
              "      <td>False</td>\n",
              "      <td>False</td>\n",
              "      <td>False</td>\n",
              "      <td>False</td>\n",
              "      <td>False</td>\n",
              "      <td>False</td>\n",
              "      <td>False</td>\n",
              "      <td>False</td>\n",
              "      <td>False</td>\n",
              "    </tr>\n",
              "    <tr>\n",
              "      <th>3</th>\n",
              "      <td>False</td>\n",
              "      <td>False</td>\n",
              "      <td>False</td>\n",
              "      <td>False</td>\n",
              "      <td>False</td>\n",
              "      <td>False</td>\n",
              "      <td>False</td>\n",
              "      <td>False</td>\n",
              "      <td>False</td>\n",
              "      <td>False</td>\n",
              "    </tr>\n",
              "    <tr>\n",
              "      <th>4</th>\n",
              "      <td>False</td>\n",
              "      <td>False</td>\n",
              "      <td>False</td>\n",
              "      <td>False</td>\n",
              "      <td>False</td>\n",
              "      <td>False</td>\n",
              "      <td>False</td>\n",
              "      <td>False</td>\n",
              "      <td>False</td>\n",
              "      <td>False</td>\n",
              "    </tr>\n",
              "    <tr>\n",
              "      <th>...</th>\n",
              "      <td>...</td>\n",
              "      <td>...</td>\n",
              "      <td>...</td>\n",
              "      <td>...</td>\n",
              "      <td>...</td>\n",
              "      <td>...</td>\n",
              "      <td>...</td>\n",
              "      <td>...</td>\n",
              "      <td>...</td>\n",
              "      <td>...</td>\n",
              "    </tr>\n",
              "    <tr>\n",
              "      <th>94</th>\n",
              "      <td>False</td>\n",
              "      <td>False</td>\n",
              "      <td>False</td>\n",
              "      <td>False</td>\n",
              "      <td>False</td>\n",
              "      <td>False</td>\n",
              "      <td>False</td>\n",
              "      <td>False</td>\n",
              "      <td>False</td>\n",
              "      <td>False</td>\n",
              "    </tr>\n",
              "    <tr>\n",
              "      <th>95</th>\n",
              "      <td>False</td>\n",
              "      <td>False</td>\n",
              "      <td>False</td>\n",
              "      <td>False</td>\n",
              "      <td>False</td>\n",
              "      <td>False</td>\n",
              "      <td>False</td>\n",
              "      <td>False</td>\n",
              "      <td>False</td>\n",
              "      <td>False</td>\n",
              "    </tr>\n",
              "    <tr>\n",
              "      <th>96</th>\n",
              "      <td>False</td>\n",
              "      <td>False</td>\n",
              "      <td>False</td>\n",
              "      <td>False</td>\n",
              "      <td>False</td>\n",
              "      <td>False</td>\n",
              "      <td>False</td>\n",
              "      <td>False</td>\n",
              "      <td>False</td>\n",
              "      <td>False</td>\n",
              "    </tr>\n",
              "    <tr>\n",
              "      <th>97</th>\n",
              "      <td>False</td>\n",
              "      <td>False</td>\n",
              "      <td>False</td>\n",
              "      <td>False</td>\n",
              "      <td>False</td>\n",
              "      <td>False</td>\n",
              "      <td>False</td>\n",
              "      <td>False</td>\n",
              "      <td>False</td>\n",
              "      <td>False</td>\n",
              "    </tr>\n",
              "    <tr>\n",
              "      <th>98</th>\n",
              "      <td>False</td>\n",
              "      <td>False</td>\n",
              "      <td>False</td>\n",
              "      <td>False</td>\n",
              "      <td>False</td>\n",
              "      <td>False</td>\n",
              "      <td>False</td>\n",
              "      <td>False</td>\n",
              "      <td>False</td>\n",
              "      <td>False</td>\n",
              "    </tr>\n",
              "  </tbody>\n",
              "</table>\n",
              "<p>99 rows × 10 columns</p>\n",
              "</div>"
            ],
            "text/plain": [
              "    land_area  percent_city  percent_senior  ...  income  region  crime_rate\n",
              "0       False         False           False  ...   False   False       False\n",
              "1       False         False           False  ...   False   False       False\n",
              "2       False         False           False  ...   False   False       False\n",
              "3       False         False           False  ...   False   False       False\n",
              "4       False         False           False  ...   False   False       False\n",
              "..        ...           ...             ...  ...     ...     ...         ...\n",
              "94      False         False           False  ...   False   False       False\n",
              "95      False         False           False  ...   False   False       False\n",
              "96      False         False           False  ...   False   False       False\n",
              "97      False         False           False  ...   False   False       False\n",
              "98      False         False           False  ...   False   False       False\n",
              "\n",
              "[99 rows x 10 columns]"
            ]
          },
          "metadata": {
            "tags": []
          },
          "execution_count": 10
        }
      ]
    },
    {
      "cell_type": "code",
      "metadata": {
        "id": "AymY3uvTVX7q",
        "colab_type": "code",
        "colab": {
          "base_uri": "https://localhost:8080/",
          "height": 204
        },
        "outputId": "92f58e5f-23be-431e-c759-fe51a42ee387"
      },
      "source": [
        "x.isnull().sum()"
      ],
      "execution_count": 11,
      "outputs": [
        {
          "output_type": "execute_result",
          "data": {
            "text/plain": [
              "land_area         0\n",
              "percent_city      0\n",
              "percent_senior    0\n",
              "physicians        0\n",
              "hospital_beds     0\n",
              "graduates         0\n",
              "work_force        0\n",
              "income            0\n",
              "region            0\n",
              "crime_rate        0\n",
              "dtype: int64"
            ]
          },
          "metadata": {
            "tags": []
          },
          "execution_count": 11
        }
      ]
    },
    {
      "cell_type": "code",
      "metadata": {
        "id": "q25NtUUfVe7G",
        "colab_type": "code",
        "colab": {}
      },
      "source": [
        "x_mean = x.mean()"
      ],
      "execution_count": 0,
      "outputs": []
    },
    {
      "cell_type": "code",
      "metadata": {
        "id": "9PgjZCccVmJl",
        "colab_type": "code",
        "colab": {
          "base_uri": "https://localhost:8080/",
          "height": 204
        },
        "outputId": "52bb12e5-4508-48f6-dd53-58910f7e97c4"
      },
      "source": [
        "x_mean"
      ],
      "execution_count": 13,
      "outputs": [
        {
          "output_type": "execute_result",
          "data": {
            "text/plain": [
              "land_area         2615.727273\n",
              "percent_city        42.518182\n",
              "percent_senior       9.781818\n",
              "physicians        1828.333333\n",
              "hospital_beds     6345.868687\n",
              "graduates           54.463636\n",
              "work_force         449.366667\n",
              "income            6762.505051\n",
              "region               2.494949\n",
              "crime_rate          55.643757\n",
              "dtype: float64"
            ]
          },
          "metadata": {
            "tags": []
          },
          "execution_count": 13
        }
      ]
    },
    {
      "cell_type": "code",
      "metadata": {
        "id": "9YDd6eMqVnlw",
        "colab_type": "code",
        "colab": {
          "base_uri": "https://localhost:8080/",
          "height": 297
        },
        "outputId": "2957f1c7-027d-4633-ebef-e2f7982b5937"
      },
      "source": [
        "x.describe()"
      ],
      "execution_count": 14,
      "outputs": [
        {
          "output_type": "execute_result",
          "data": {
            "text/html": [
              "<div>\n",
              "<style scoped>\n",
              "    .dataframe tbody tr th:only-of-type {\n",
              "        vertical-align: middle;\n",
              "    }\n",
              "\n",
              "    .dataframe tbody tr th {\n",
              "        vertical-align: top;\n",
              "    }\n",
              "\n",
              "    .dataframe thead th {\n",
              "        text-align: right;\n",
              "    }\n",
              "</style>\n",
              "<table border=\"1\" class=\"dataframe\">\n",
              "  <thead>\n",
              "    <tr style=\"text-align: right;\">\n",
              "      <th></th>\n",
              "      <th>land_area</th>\n",
              "      <th>percent_city</th>\n",
              "      <th>percent_senior</th>\n",
              "      <th>physicians</th>\n",
              "      <th>hospital_beds</th>\n",
              "      <th>graduates</th>\n",
              "      <th>work_force</th>\n",
              "      <th>income</th>\n",
              "      <th>region</th>\n",
              "      <th>crime_rate</th>\n",
              "    </tr>\n",
              "  </thead>\n",
              "  <tbody>\n",
              "    <tr>\n",
              "      <th>count</th>\n",
              "      <td>99.000000</td>\n",
              "      <td>99.000000</td>\n",
              "      <td>99.000000</td>\n",
              "      <td>99.000000</td>\n",
              "      <td>99.000000</td>\n",
              "      <td>99.000000</td>\n",
              "      <td>99.000000</td>\n",
              "      <td>99.000000</td>\n",
              "      <td>99.000000</td>\n",
              "      <td>99.000000</td>\n",
              "    </tr>\n",
              "    <tr>\n",
              "      <th>mean</th>\n",
              "      <td>2615.727273</td>\n",
              "      <td>42.518182</td>\n",
              "      <td>9.781818</td>\n",
              "      <td>1828.333333</td>\n",
              "      <td>6345.868687</td>\n",
              "      <td>54.463636</td>\n",
              "      <td>449.366667</td>\n",
              "      <td>6762.505051</td>\n",
              "      <td>2.494949</td>\n",
              "      <td>55.643757</td>\n",
              "    </tr>\n",
              "    <tr>\n",
              "      <th>std</th>\n",
              "      <td>3045.826210</td>\n",
              "      <td>17.348277</td>\n",
              "      <td>2.524547</td>\n",
              "      <td>3192.199763</td>\n",
              "      <td>9136.202716</td>\n",
              "      <td>7.773286</td>\n",
              "      <td>610.990885</td>\n",
              "      <td>10393.349660</td>\n",
              "      <td>1.013921</td>\n",
              "      <td>13.471362</td>\n",
              "    </tr>\n",
              "    <tr>\n",
              "      <th>min</th>\n",
              "      <td>47.000000</td>\n",
              "      <td>13.400000</td>\n",
              "      <td>3.900000</td>\n",
              "      <td>140.000000</td>\n",
              "      <td>481.000000</td>\n",
              "      <td>30.300000</td>\n",
              "      <td>66.900000</td>\n",
              "      <td>769.000000</td>\n",
              "      <td>1.000000</td>\n",
              "      <td>23.321839</td>\n",
              "    </tr>\n",
              "    <tr>\n",
              "      <th>25%</th>\n",
              "      <td>1408.000000</td>\n",
              "      <td>30.100000</td>\n",
              "      <td>8.350000</td>\n",
              "      <td>459.000000</td>\n",
              "      <td>2390.000000</td>\n",
              "      <td>50.250000</td>\n",
              "      <td>150.300000</td>\n",
              "      <td>2003.000000</td>\n",
              "      <td>2.000000</td>\n",
              "      <td>46.112486</td>\n",
              "    </tr>\n",
              "    <tr>\n",
              "      <th>50%</th>\n",
              "      <td>1951.000000</td>\n",
              "      <td>39.500000</td>\n",
              "      <td>9.700000</td>\n",
              "      <td>774.000000</td>\n",
              "      <td>3472.000000</td>\n",
              "      <td>54.000000</td>\n",
              "      <td>257.200000</td>\n",
              "      <td>3510.000000</td>\n",
              "      <td>3.000000</td>\n",
              "      <td>56.061290</td>\n",
              "    </tr>\n",
              "    <tr>\n",
              "      <th>75%</th>\n",
              "      <td>2890.500000</td>\n",
              "      <td>52.600000</td>\n",
              "      <td>10.750000</td>\n",
              "      <td>1911.500000</td>\n",
              "      <td>6386.500000</td>\n",
              "      <td>58.300000</td>\n",
              "      <td>436.500000</td>\n",
              "      <td>6283.500000</td>\n",
              "      <td>3.000000</td>\n",
              "      <td>63.859055</td>\n",
              "    </tr>\n",
              "    <tr>\n",
              "      <th>max</th>\n",
              "      <td>27293.000000</td>\n",
              "      <td>100.000000</td>\n",
              "      <td>21.800000</td>\n",
              "      <td>25627.000000</td>\n",
              "      <td>69678.000000</td>\n",
              "      <td>72.800000</td>\n",
              "      <td>4083.900000</td>\n",
              "      <td>72100.000000</td>\n",
              "      <td>4.000000</td>\n",
              "      <td>85.622010</td>\n",
              "    </tr>\n",
              "  </tbody>\n",
              "</table>\n",
              "</div>"
            ],
            "text/plain": [
              "          land_area  percent_city  ...     region  crime_rate\n",
              "count     99.000000     99.000000  ...  99.000000   99.000000\n",
              "mean    2615.727273     42.518182  ...   2.494949   55.643757\n",
              "std     3045.826210     17.348277  ...   1.013921   13.471362\n",
              "min       47.000000     13.400000  ...   1.000000   23.321839\n",
              "25%     1408.000000     30.100000  ...   2.000000   46.112486\n",
              "50%     1951.000000     39.500000  ...   3.000000   56.061290\n",
              "75%     2890.500000     52.600000  ...   3.000000   63.859055\n",
              "max    27293.000000    100.000000  ...   4.000000   85.622010\n",
              "\n",
              "[8 rows x 10 columns]"
            ]
          },
          "metadata": {
            "tags": []
          },
          "execution_count": 14
        }
      ]
    },
    {
      "cell_type": "code",
      "metadata": {
        "id": "5VIa8DMyVsHD",
        "colab_type": "code",
        "colab": {
          "base_uri": "https://localhost:8080/",
          "height": 359
        },
        "outputId": "19ff7cb2-71c8-48d2-af75-fe93bde38985"
      },
      "source": [
        "x.corr()"
      ],
      "execution_count": 15,
      "outputs": [
        {
          "output_type": "execute_result",
          "data": {
            "text/html": [
              "<div>\n",
              "<style scoped>\n",
              "    .dataframe tbody tr th:only-of-type {\n",
              "        vertical-align: middle;\n",
              "    }\n",
              "\n",
              "    .dataframe tbody tr th {\n",
              "        vertical-align: top;\n",
              "    }\n",
              "\n",
              "    .dataframe thead th {\n",
              "        text-align: right;\n",
              "    }\n",
              "</style>\n",
              "<table border=\"1\" class=\"dataframe\">\n",
              "  <thead>\n",
              "    <tr style=\"text-align: right;\">\n",
              "      <th></th>\n",
              "      <th>land_area</th>\n",
              "      <th>percent_city</th>\n",
              "      <th>percent_senior</th>\n",
              "      <th>physicians</th>\n",
              "      <th>hospital_beds</th>\n",
              "      <th>graduates</th>\n",
              "      <th>work_force</th>\n",
              "      <th>income</th>\n",
              "      <th>region</th>\n",
              "      <th>crime_rate</th>\n",
              "    </tr>\n",
              "  </thead>\n",
              "  <tbody>\n",
              "    <tr>\n",
              "      <th>land_area</th>\n",
              "      <td>1.000000</td>\n",
              "      <td>-0.077320</td>\n",
              "      <td>0.092226</td>\n",
              "      <td>0.085054</td>\n",
              "      <td>0.081034</td>\n",
              "      <td>0.088728</td>\n",
              "      <td>0.135792</td>\n",
              "      <td>0.111404</td>\n",
              "      <td>0.292392</td>\n",
              "      <td>0.293886</td>\n",
              "    </tr>\n",
              "    <tr>\n",
              "      <th>percent_city</th>\n",
              "      <td>-0.077320</td>\n",
              "      <td>1.000000</td>\n",
              "      <td>-0.250995</td>\n",
              "      <td>0.067391</td>\n",
              "      <td>0.052898</td>\n",
              "      <td>0.076720</td>\n",
              "      <td>0.016011</td>\n",
              "      <td>0.019235</td>\n",
              "      <td>0.235880</td>\n",
              "      <td>0.159604</td>\n",
              "    </tr>\n",
              "    <tr>\n",
              "      <th>percent_senior</th>\n",
              "      <td>0.092226</td>\n",
              "      <td>-0.250995</td>\n",
              "      <td>1.000000</td>\n",
              "      <td>0.056454</td>\n",
              "      <td>0.083775</td>\n",
              "      <td>-0.155695</td>\n",
              "      <td>0.035240</td>\n",
              "      <td>0.046073</td>\n",
              "      <td>-0.242811</td>\n",
              "      <td>-0.178030</td>\n",
              "    </tr>\n",
              "    <tr>\n",
              "      <th>physicians</th>\n",
              "      <td>0.085054</td>\n",
              "      <td>0.067391</td>\n",
              "      <td>0.056454</td>\n",
              "      <td>1.000000</td>\n",
              "      <td>0.974241</td>\n",
              "      <td>0.049500</td>\n",
              "      <td>0.965597</td>\n",
              "      <td>0.976209</td>\n",
              "      <td>-0.140961</td>\n",
              "      <td>0.187770</td>\n",
              "    </tr>\n",
              "    <tr>\n",
              "      <th>hospital_beds</th>\n",
              "      <td>0.081034</td>\n",
              "      <td>0.052898</td>\n",
              "      <td>0.083775</td>\n",
              "      <td>0.974241</td>\n",
              "      <td>1.000000</td>\n",
              "      <td>-0.003892</td>\n",
              "      <td>0.967913</td>\n",
              "      <td>0.974416</td>\n",
              "      <td>-0.220305</td>\n",
              "      <td>0.109805</td>\n",
              "    </tr>\n",
              "    <tr>\n",
              "      <th>graduates</th>\n",
              "      <td>0.088728</td>\n",
              "      <td>0.076720</td>\n",
              "      <td>-0.155695</td>\n",
              "      <td>0.049500</td>\n",
              "      <td>-0.003892</td>\n",
              "      <td>1.000000</td>\n",
              "      <td>0.044054</td>\n",
              "      <td>0.045578</td>\n",
              "      <td>0.246226</td>\n",
              "      <td>0.290857</td>\n",
              "    </tr>\n",
              "    <tr>\n",
              "      <th>work_force</th>\n",
              "      <td>0.135792</td>\n",
              "      <td>0.016011</td>\n",
              "      <td>0.035240</td>\n",
              "      <td>0.965597</td>\n",
              "      <td>0.967913</td>\n",
              "      <td>0.044054</td>\n",
              "      <td>1.000000</td>\n",
              "      <td>0.996735</td>\n",
              "      <td>-0.144022</td>\n",
              "      <td>0.175946</td>\n",
              "    </tr>\n",
              "    <tr>\n",
              "      <th>income</th>\n",
              "      <td>0.111404</td>\n",
              "      <td>0.019235</td>\n",
              "      <td>0.046073</td>\n",
              "      <td>0.976209</td>\n",
              "      <td>0.974416</td>\n",
              "      <td>0.045578</td>\n",
              "      <td>0.996735</td>\n",
              "      <td>1.000000</td>\n",
              "      <td>-0.152016</td>\n",
              "      <td>0.175799</td>\n",
              "    </tr>\n",
              "    <tr>\n",
              "      <th>region</th>\n",
              "      <td>0.292392</td>\n",
              "      <td>0.235880</td>\n",
              "      <td>-0.242811</td>\n",
              "      <td>-0.140961</td>\n",
              "      <td>-0.220305</td>\n",
              "      <td>0.246226</td>\n",
              "      <td>-0.144022</td>\n",
              "      <td>-0.152016</td>\n",
              "      <td>1.000000</td>\n",
              "      <td>0.636183</td>\n",
              "    </tr>\n",
              "    <tr>\n",
              "      <th>crime_rate</th>\n",
              "      <td>0.293886</td>\n",
              "      <td>0.159604</td>\n",
              "      <td>-0.178030</td>\n",
              "      <td>0.187770</td>\n",
              "      <td>0.109805</td>\n",
              "      <td>0.290857</td>\n",
              "      <td>0.175946</td>\n",
              "      <td>0.175799</td>\n",
              "      <td>0.636183</td>\n",
              "      <td>1.000000</td>\n",
              "    </tr>\n",
              "  </tbody>\n",
              "</table>\n",
              "</div>"
            ],
            "text/plain": [
              "                land_area  percent_city  ...    region  crime_rate\n",
              "land_area        1.000000     -0.077320  ...  0.292392    0.293886\n",
              "percent_city    -0.077320      1.000000  ...  0.235880    0.159604\n",
              "percent_senior   0.092226     -0.250995  ... -0.242811   -0.178030\n",
              "physicians       0.085054      0.067391  ... -0.140961    0.187770\n",
              "hospital_beds    0.081034      0.052898  ... -0.220305    0.109805\n",
              "graduates        0.088728      0.076720  ...  0.246226    0.290857\n",
              "work_force       0.135792      0.016011  ... -0.144022    0.175946\n",
              "income           0.111404      0.019235  ... -0.152016    0.175799\n",
              "region           0.292392      0.235880  ...  1.000000    0.636183\n",
              "crime_rate       0.293886      0.159604  ...  0.636183    1.000000\n",
              "\n",
              "[10 rows x 10 columns]"
            ]
          },
          "metadata": {
            "tags": []
          },
          "execution_count": 15
        }
      ]
    },
    {
      "cell_type": "code",
      "metadata": {
        "id": "wk0cTNIGVv8I",
        "colab_type": "code",
        "colab": {
          "base_uri": "https://localhost:8080/",
          "height": 34
        },
        "outputId": "4097a3ed-4842-45d9-ea3a-6749b438c688"
      },
      "source": [
        "type(x)"
      ],
      "execution_count": 16,
      "outputs": [
        {
          "output_type": "execute_result",
          "data": {
            "text/plain": [
              "pandas.core.frame.DataFrame"
            ]
          },
          "metadata": {
            "tags": []
          },
          "execution_count": 16
        }
      ]
    },
    {
      "cell_type": "code",
      "metadata": {
        "id": "P5IB75mNV0Wa",
        "colab_type": "code",
        "colab": {
          "base_uri": "https://localhost:8080/",
          "height": 204
        },
        "outputId": "8eb0ae8b-bdfd-4abd-f7bc-61f74a7dd029"
      },
      "source": [
        "subset = x[['percent_city', 'percent_senior']]\n",
        "subset.head()"
      ],
      "execution_count": 20,
      "outputs": [
        {
          "output_type": "execute_result",
          "data": {
            "text/html": [
              "<div>\n",
              "<style scoped>\n",
              "    .dataframe tbody tr th:only-of-type {\n",
              "        vertical-align: middle;\n",
              "    }\n",
              "\n",
              "    .dataframe tbody tr th {\n",
              "        vertical-align: top;\n",
              "    }\n",
              "\n",
              "    .dataframe thead th {\n",
              "        text-align: right;\n",
              "    }\n",
              "</style>\n",
              "<table border=\"1\" class=\"dataframe\">\n",
              "  <thead>\n",
              "    <tr style=\"text-align: right;\">\n",
              "      <th></th>\n",
              "      <th>percent_city</th>\n",
              "      <th>percent_senior</th>\n",
              "    </tr>\n",
              "  </thead>\n",
              "  <tbody>\n",
              "    <tr>\n",
              "      <th>0</th>\n",
              "      <td>78.1</td>\n",
              "      <td>12.3</td>\n",
              "    </tr>\n",
              "    <tr>\n",
              "      <th>1</th>\n",
              "      <td>43.9</td>\n",
              "      <td>9.4</td>\n",
              "    </tr>\n",
              "    <tr>\n",
              "      <th>2</th>\n",
              "      <td>37.4</td>\n",
              "      <td>10.7</td>\n",
              "    </tr>\n",
              "    <tr>\n",
              "      <th>3</th>\n",
              "      <td>29.9</td>\n",
              "      <td>8.8</td>\n",
              "    </tr>\n",
              "    <tr>\n",
              "      <th>4</th>\n",
              "      <td>31.5</td>\n",
              "      <td>10.5</td>\n",
              "    </tr>\n",
              "  </tbody>\n",
              "</table>\n",
              "</div>"
            ],
            "text/plain": [
              "   percent_city  percent_senior\n",
              "0          78.1            12.3\n",
              "1          43.9             9.4\n",
              "2          37.4            10.7\n",
              "3          29.9             8.8\n",
              "4          31.5            10.5"
            ]
          },
          "metadata": {
            "tags": []
          },
          "execution_count": 20
        }
      ]
    },
    {
      "cell_type": "code",
      "metadata": {
        "id": "c3pNGWl0WBAn",
        "colab_type": "code",
        "colab": {
          "base_uri": "https://localhost:8080/",
          "height": 204
        },
        "outputId": "c5c6fdfd-ebe0-4c45-ffcf-5d371ac6d561"
      },
      "source": [
        "# loc locates by name\n",
        "# iloc locates by numerical index\n",
        "x.iloc[1]"
      ],
      "execution_count": 22,
      "outputs": [
        {
          "output_type": "execute_result",
          "data": {
            "text/plain": [
              "land_area          3719.000000\n",
              "percent_city         43.900000\n",
              "percent_senior        9.400000\n",
              "physicians        13326.000000\n",
              "hospital_beds     43292.000000\n",
              "graduates            53.900000\n",
              "work_force         3305.900000\n",
              "income            54542.000000\n",
              "region                2.000000\n",
              "crime_rate           56.029927\n",
              "Name: 1, dtype: float64"
            ]
          },
          "metadata": {
            "tags": []
          },
          "execution_count": 22
        }
      ]
    },
    {
      "cell_type": "code",
      "metadata": {
        "id": "tml5CHBXWUHT",
        "colab_type": "code",
        "colab": {
          "base_uri": "https://localhost:8080/",
          "height": 111
        },
        "outputId": "1fc14f2c-12b5-4c64-8ac1-0fec3dd9c8bf"
      },
      "source": [
        "# Applying Functions\n",
        "def rating_function(x):\n",
        "    if x >= 8.0:\n",
        "        return \"good\"\n",
        "    else:\n",
        "        return \"bad\"\n",
        "x[\"test_func\"] = x[\"land_area\"].apply(rating_function)\n",
        "x.head(2)"
      ],
      "execution_count": 23,
      "outputs": [
        {
          "output_type": "execute_result",
          "data": {
            "text/html": [
              "<div>\n",
              "<style scoped>\n",
              "    .dataframe tbody tr th:only-of-type {\n",
              "        vertical-align: middle;\n",
              "    }\n",
              "\n",
              "    .dataframe tbody tr th {\n",
              "        vertical-align: top;\n",
              "    }\n",
              "\n",
              "    .dataframe thead th {\n",
              "        text-align: right;\n",
              "    }\n",
              "</style>\n",
              "<table border=\"1\" class=\"dataframe\">\n",
              "  <thead>\n",
              "    <tr style=\"text-align: right;\">\n",
              "      <th></th>\n",
              "      <th>land_area</th>\n",
              "      <th>percent_city</th>\n",
              "      <th>percent_senior</th>\n",
              "      <th>physicians</th>\n",
              "      <th>hospital_beds</th>\n",
              "      <th>graduates</th>\n",
              "      <th>work_force</th>\n",
              "      <th>income</th>\n",
              "      <th>region</th>\n",
              "      <th>crime_rate</th>\n",
              "      <th>test_func</th>\n",
              "    </tr>\n",
              "  </thead>\n",
              "  <tbody>\n",
              "    <tr>\n",
              "      <th>0</th>\n",
              "      <td>1384</td>\n",
              "      <td>78.1</td>\n",
              "      <td>12.3</td>\n",
              "      <td>25627</td>\n",
              "      <td>69678</td>\n",
              "      <td>50.1</td>\n",
              "      <td>4083.9</td>\n",
              "      <td>72100</td>\n",
              "      <td>1</td>\n",
              "      <td>75.554916</td>\n",
              "      <td>good</td>\n",
              "    </tr>\n",
              "    <tr>\n",
              "      <th>1</th>\n",
              "      <td>3719</td>\n",
              "      <td>43.9</td>\n",
              "      <td>9.4</td>\n",
              "      <td>13326</td>\n",
              "      <td>43292</td>\n",
              "      <td>53.9</td>\n",
              "      <td>3305.9</td>\n",
              "      <td>54542</td>\n",
              "      <td>2</td>\n",
              "      <td>56.029927</td>\n",
              "      <td>good</td>\n",
              "    </tr>\n",
              "  </tbody>\n",
              "</table>\n",
              "</div>"
            ],
            "text/plain": [
              "   land_area  percent_city  percent_senior  ...  region  crime_rate  test_func\n",
              "0       1384          78.1            12.3  ...       1   75.554916       good\n",
              "1       3719          43.9             9.4  ...       2   56.029927       good\n",
              "\n",
              "[2 rows x 11 columns]"
            ]
          },
          "metadata": {
            "tags": []
          },
          "execution_count": 23
        }
      ]
    },
    {
      "cell_type": "code",
      "metadata": {
        "id": "7wdb-QJ4W5A3",
        "colab_type": "code",
        "colab": {
          "base_uri": "https://localhost:8080/",
          "height": 284
        },
        "outputId": "6be49d2a-eb23-4c53-a160-c1a02a52502d"
      },
      "source": [
        "plt.scatter(x.percent_city,x.percent_senior)"
      ],
      "execution_count": 24,
      "outputs": [
        {
          "output_type": "execute_result",
          "data": {
            "text/plain": [
              "<matplotlib.collections.PathCollection at 0x7f1d19e78080>"
            ]
          },
          "metadata": {
            "tags": []
          },
          "execution_count": 24
        },
        {
          "output_type": "display_data",
          "data": {
            "image/png": "[encoded data removed]",
            "text/plain": [
              "<Figure size 432x288 with 1 Axes>"
            ]
          },
          "metadata": {
            "tags": [],
            "needs_background": "light"
          }
        }
      ]
    },
    {
      "cell_type": "code",
      "metadata": {
        "id": "kzrF2wMiXPu7",
        "colab_type": "code",
        "colab": {
          "base_uri": "https://localhost:8080/",
          "height": 363
        },
        "outputId": "3376406d-f27f-4967-d5b3-dd70206f20b1"
      },
      "source": [
        "plt.title(\"Histogram\")\n",
        "plt.xlabel(\"Percentage of Senior Citizens\")\n",
        "plt.ylabel(\"Frequency\")\n",
        "plt.hist(x.percent_senior)"
      ],
      "execution_count": 25,
      "outputs": [
        {
          "output_type": "execute_result",
          "data": {
            "text/plain": [
              "(array([ 1., 13., 25., 38., 18.,  2.,  0.,  0.,  0.,  2.]),\n",
              " array([ 3.9 ,  5.69,  7.48,  9.27, 11.06, 12.85, 14.64, 16.43, 18.22,\n",
              "        20.01, 21.8 ]),\n",
              " <a list of 10 Patch objects>)"
            ]
          },
          "metadata": {
            "tags": []
          },
          "execution_count": 25
        },
        {
          "output_type": "display_data",
          "data": {
            "image/png": "[encoded data removed]",
            "text/plain": [
              "<Figure size 432x288 with 1 Axes>"
            ]
          },
          "metadata": {
            "tags": [],
            "needs_background": "light"
          }
        }
      ]
    },
    {
      "cell_type": "code",
      "metadata": {
        "id": "55Iht4iTXWxI",
        "colab_type": "code",
        "colab": {}
      },
      "source": [
        "# -------------------------------------------------------------------------------------------INTRO------------------------------------------------------------------------------------- #"
      ],
      "execution_count": 0,
      "outputs": []
    },
    {
      "cell_type": "code",
      "metadata": {
        "id": "2AWX15xKYpX6",
        "colab_type": "code",
        "colab": {
          "base_uri": "https://localhost:8080/",
          "height": 34
        },
        "outputId": "e240cc73-a7a1-4192-a234-78ca7d50027d"
      },
      "source": [
        "x_mean_land_area = x['land_area'].mean()\n",
        "x_mean_land_area"
      ],
      "execution_count": 29,
      "outputs": [
        {
          "output_type": "execute_result",
          "data": {
            "text/plain": [
              "2615.7272727272725"
            ]
          },
          "metadata": {
            "tags": []
          },
          "execution_count": 29
        }
      ]
    },
    {
      "cell_type": "code",
      "metadata": {
        "id": "F4OQXuydcw07",
        "colab_type": "code",
        "colab": {
          "base_uri": "https://localhost:8080/",
          "height": 34
        },
        "outputId": "2fd671f8-c21d-48bd-eb0c-2facef03fa57"
      },
      "source": [
        "x_max_crime = x['crime_rate'].max()\n",
        "x_max_crime"
      ],
      "execution_count": 31,
      "outputs": [
        {
          "output_type": "execute_result",
          "data": {
            "text/plain": [
              "85.622009569378"
            ]
          },
          "metadata": {
            "tags": []
          },
          "execution_count": 31
        }
      ]
    },
    {
      "cell_type": "code",
      "metadata": {
        "id": "0bI_BmWJc9fi",
        "colab_type": "code",
        "colab": {
          "base_uri": "https://localhost:8080/",
          "height": 34
        },
        "outputId": "2d2b13b9-59c7-4934-ae71-54b83ae4f74b"
      },
      "source": [
        "x_min_income = x['income'].min()\n",
        "x_min_income"
      ],
      "execution_count": 32,
      "outputs": [
        {
          "output_type": "execute_result",
          "data": {
            "text/plain": [
              "769"
            ]
          },
          "metadata": {
            "tags": []
          },
          "execution_count": 32
        }
      ]
    },
    {
      "cell_type": "code",
      "metadata": {
        "id": "45zx6mXtdItv",
        "colab_type": "code",
        "colab": {
          "base_uri": "https://localhost:8080/",
          "height": 221
        },
        "outputId": "790d0426-b694-430b-c107-bcdb2d43872d"
      },
      "source": [
        "x_notnull_hospital_beds = x['hospital_beds'].notnull()\n",
        "x_notnull_hospital_beds"
      ],
      "execution_count": 34,
      "outputs": [
        {
          "output_type": "execute_result",
          "data": {
            "text/plain": [
              "0     True\n",
              "1     True\n",
              "2     True\n",
              "3     True\n",
              "4     True\n",
              "      ... \n",
              "94    True\n",
              "95    True\n",
              "96    True\n",
              "97    True\n",
              "98    True\n",
              "Name: hospital_beds, Length: 99, dtype: bool"
            ]
          },
          "metadata": {
            "tags": []
          },
          "execution_count": 34
        }
      ]
    },
    {
      "cell_type": "code",
      "metadata": {
        "id": "RUsbBFPKdWB6",
        "colab_type": "code",
        "colab": {
          "base_uri": "https://localhost:8080/",
          "height": 576
        },
        "outputId": "165996e9-e1cf-4576-cadf-8a1d5917eb76"
      },
      "source": [
        "x[x['region']==4]"
      ],
      "execution_count": 52,
      "outputs": [
        {
          "output_type": "execute_result",
          "data": {
            "text/html": [
              "<div>\n",
              "<style scoped>\n",
              "    .dataframe tbody tr th:only-of-type {\n",
              "        vertical-align: middle;\n",
              "    }\n",
              "\n",
              "    .dataframe tbody tr th {\n",
              "        vertical-align: top;\n",
              "    }\n",
              "\n",
              "    .dataframe thead th {\n",
              "        text-align: right;\n",
              "    }\n",
              "</style>\n",
              "<table border=\"1\" class=\"dataframe\">\n",
              "  <thead>\n",
              "    <tr style=\"text-align: right;\">\n",
              "      <th></th>\n",
              "      <th>land_area</th>\n",
              "      <th>percent_city</th>\n",
              "      <th>percent_senior</th>\n",
              "      <th>physicians</th>\n",
              "      <th>hospital_beds</th>\n",
              "      <th>graduates</th>\n",
              "      <th>work_force</th>\n",
              "      <th>income</th>\n",
              "      <th>region</th>\n",
              "      <th>crime_rate</th>\n",
              "      <th>test_func</th>\n",
              "    </tr>\n",
              "  </thead>\n",
              "  <tbody>\n",
              "    <tr>\n",
              "      <th>4</th>\n",
              "      <td>2480</td>\n",
              "      <td>31.5</td>\n",
              "      <td>10.5</td>\n",
              "      <td>8502</td>\n",
              "      <td>16751</td>\n",
              "      <td>66.1</td>\n",
              "      <td>1514.5</td>\n",
              "      <td>26573</td>\n",
              "      <td>4</td>\n",
              "      <td>80.189189</td>\n",
              "      <td>good</td>\n",
              "    </tr>\n",
              "    <tr>\n",
              "      <th>13</th>\n",
              "      <td>782</td>\n",
              "      <td>28.4</td>\n",
              "      <td>7.8</td>\n",
              "      <td>3119</td>\n",
              "      <td>8656</td>\n",
              "      <td>70.5</td>\n",
              "      <td>915.2</td>\n",
              "      <td>12591</td>\n",
              "      <td>4</td>\n",
              "      <td>63.198778</td>\n",
              "      <td>good</td>\n",
              "    </tr>\n",
              "    <tr>\n",
              "      <th>14</th>\n",
              "      <td>4226</td>\n",
              "      <td>38.1</td>\n",
              "      <td>9.8</td>\n",
              "      <td>3285</td>\n",
              "      <td>5392</td>\n",
              "      <td>67.8</td>\n",
              "      <td>699.8</td>\n",
              "      <td>10918</td>\n",
              "      <td>4</td>\n",
              "      <td>64.049755</td>\n",
              "      <td>good</td>\n",
              "    </tr>\n",
              "    <tr>\n",
              "      <th>18</th>\n",
              "      <td>27293</td>\n",
              "      <td>25.3</td>\n",
              "      <td>12.3</td>\n",
              "      <td>2018</td>\n",
              "      <td>6323</td>\n",
              "      <td>57.4</td>\n",
              "      <td>510.6</td>\n",
              "      <td>7399</td>\n",
              "      <td>4</td>\n",
              "      <td>76.028331</td>\n",
              "      <td>good</td>\n",
              "    </tr>\n",
              "    <tr>\n",
              "      <th>20</th>\n",
              "      <td>9155</td>\n",
              "      <td>53.8</td>\n",
              "      <td>11.1</td>\n",
              "      <td>2280</td>\n",
              "      <td>6450</td>\n",
              "      <td>60.1</td>\n",
              "      <td>575.2</td>\n",
              "      <td>7766</td>\n",
              "      <td>4</td>\n",
              "      <td>85.622010</td>\n",
              "      <td>good</td>\n",
              "    </tr>\n",
              "    <tr>\n",
              "      <th>25</th>\n",
              "      <td>3434</td>\n",
              "      <td>28.9</td>\n",
              "      <td>8.3</td>\n",
              "      <td>1844</td>\n",
              "      <td>3215</td>\n",
              "      <td>65.1</td>\n",
              "      <td>422.6</td>\n",
              "      <td>5909</td>\n",
              "      <td>4</td>\n",
              "      <td>77.944026</td>\n",
              "      <td>good</td>\n",
              "    </tr>\n",
              "    <tr>\n",
              "      <th>33</th>\n",
              "      <td>596</td>\n",
              "      <td>100.0</td>\n",
              "      <td>6.0</td>\n",
              "      <td>1260</td>\n",
              "      <td>2819</td>\n",
              "      <td>66.0</td>\n",
              "      <td>319.9</td>\n",
              "      <td>5181</td>\n",
              "      <td>4</td>\n",
              "      <td>64.984786</td>\n",
              "      <td>good</td>\n",
              "    </tr>\n",
              "    <tr>\n",
              "      <th>53</th>\n",
              "      <td>5966</td>\n",
              "      <td>39.5</td>\n",
              "      <td>9.6</td>\n",
              "      <td>737</td>\n",
              "      <td>1907</td>\n",
              "      <td>52.7</td>\n",
              "      <td>246.6</td>\n",
              "      <td>3007</td>\n",
              "      <td>4</td>\n",
              "      <td>80.942797</td>\n",
              "      <td>good</td>\n",
              "    </tr>\n",
              "    <tr>\n",
              "      <th>54</th>\n",
              "      <td>1863</td>\n",
              "      <td>50.4</td>\n",
              "      <td>7.7</td>\n",
              "      <td>674</td>\n",
              "      <td>2989</td>\n",
              "      <td>63.8</td>\n",
              "      <td>194.8</td>\n",
              "      <td>2747</td>\n",
              "      <td>4</td>\n",
              "      <td>53.758547</td>\n",
              "      <td>good</td>\n",
              "    </tr>\n",
              "    <tr>\n",
              "      <th>59</th>\n",
              "      <td>1676</td>\n",
              "      <td>36.6</td>\n",
              "      <td>9.2</td>\n",
              "      <td>505</td>\n",
              "      <td>3297</td>\n",
              "      <td>60.7</td>\n",
              "      <td>156.3</td>\n",
              "      <td>2689</td>\n",
              "      <td>4</td>\n",
              "      <td>57.366430</td>\n",
              "      <td>good</td>\n",
              "    </tr>\n",
              "    <tr>\n",
              "      <th>67</th>\n",
              "      <td>8152</td>\n",
              "      <td>22.3</td>\n",
              "      <td>9.1</td>\n",
              "      <td>405</td>\n",
              "      <td>1254</td>\n",
              "      <td>51.7</td>\n",
              "      <td>165.6</td>\n",
              "      <td>2257</td>\n",
              "      <td>4</td>\n",
              "      <td>78.101928</td>\n",
              "      <td>good</td>\n",
              "    </tr>\n",
              "    <tr>\n",
              "      <th>73</th>\n",
              "      <td>1758</td>\n",
              "      <td>56.8</td>\n",
              "      <td>11.5</td>\n",
              "      <td>565</td>\n",
              "      <td>2081</td>\n",
              "      <td>65.3</td>\n",
              "      <td>131.2</td>\n",
              "      <td>1939</td>\n",
              "      <td>4</td>\n",
              "      <td>56.061290</td>\n",
              "      <td>good</td>\n",
              "    </tr>\n",
              "    <tr>\n",
              "      <th>74</th>\n",
              "      <td>1412</td>\n",
              "      <td>39.2</td>\n",
              "      <td>11.3</td>\n",
              "      <td>436</td>\n",
              "      <td>1837</td>\n",
              "      <td>49.4</td>\n",
              "      <td>154.2</td>\n",
              "      <td>2098</td>\n",
              "      <td>4</td>\n",
              "      <td>82.681672</td>\n",
              "      <td>good</td>\n",
              "    </tr>\n",
              "    <tr>\n",
              "      <th>81</th>\n",
              "      <td>2710</td>\n",
              "      <td>63.7</td>\n",
              "      <td>6.2</td>\n",
              "      <td>357</td>\n",
              "      <td>1277</td>\n",
              "      <td>72.8</td>\n",
              "      <td>110.9</td>\n",
              "      <td>1639</td>\n",
              "      <td>4</td>\n",
              "      <td>63.100694</td>\n",
              "      <td>good</td>\n",
              "    </tr>\n",
              "    <tr>\n",
              "      <th>84</th>\n",
              "      <td>2737</td>\n",
              "      <td>45.0</td>\n",
              "      <td>10.5</td>\n",
              "      <td>602</td>\n",
              "      <td>1462</td>\n",
              "      <td>71.3</td>\n",
              "      <td>131.4</td>\n",
              "      <td>1980</td>\n",
              "      <td>4</td>\n",
              "      <td>63.442509</td>\n",
              "      <td>good</td>\n",
              "    </tr>\n",
              "    <tr>\n",
              "      <th>93</th>\n",
              "      <td>4552</td>\n",
              "      <td>54.4</td>\n",
              "      <td>9.1</td>\n",
              "      <td>329</td>\n",
              "      <td>719</td>\n",
              "      <td>61.9</td>\n",
              "      <td>118.0</td>\n",
              "      <td>1386</td>\n",
              "      <td>4</td>\n",
              "      <td>62.634538</td>\n",
              "      <td>good</td>\n",
              "    </tr>\n",
              "    <tr>\n",
              "      <th>94</th>\n",
              "      <td>1511</td>\n",
              "      <td>38.7</td>\n",
              "      <td>10.7</td>\n",
              "      <td>348</td>\n",
              "      <td>1093</td>\n",
              "      <td>50.4</td>\n",
              "      <td>127.2</td>\n",
              "      <td>1452</td>\n",
              "      <td>4</td>\n",
              "      <td>70.661017</td>\n",
              "      <td>good</td>\n",
              "    </tr>\n",
              "  </tbody>\n",
              "</table>\n",
              "</div>"
            ],
            "text/plain": [
              "    land_area  percent_city  percent_senior  ...  region  crime_rate  test_func\n",
              "4        2480          31.5            10.5  ...       4   80.189189       good\n",
              "13        782          28.4             7.8  ...       4   63.198778       good\n",
              "14       4226          38.1             9.8  ...       4   64.049755       good\n",
              "18      27293          25.3            12.3  ...       4   76.028331       good\n",
              "20       9155          53.8            11.1  ...       4   85.622010       good\n",
              "25       3434          28.9             8.3  ...       4   77.944026       good\n",
              "33        596         100.0             6.0  ...       4   64.984786       good\n",
              "53       5966          39.5             9.6  ...       4   80.942797       good\n",
              "54       1863          50.4             7.7  ...       4   53.758547       good\n",
              "59       1676          36.6             9.2  ...       4   57.366430       good\n",
              "67       8152          22.3             9.1  ...       4   78.101928       good\n",
              "73       1758          56.8            11.5  ...       4   56.061290       good\n",
              "74       1412          39.2            11.3  ...       4   82.681672       good\n",
              "81       2710          63.7             6.2  ...       4   63.100694       good\n",
              "84       2737          45.0            10.5  ...       4   63.442509       good\n",
              "93       4552          54.4             9.1  ...       4   62.634538       good\n",
              "94       1511          38.7            10.7  ...       4   70.661017       good\n",
              "\n",
              "[17 rows x 11 columns]"
            ]
          },
          "metadata": {
            "tags": []
          },
          "execution_count": 52
        }
      ]
    },
    {
      "cell_type": "code",
      "metadata": {
        "id": "UnTYs_h0m8Jt",
        "colab_type": "code",
        "colab": {
          "base_uri": "https://localhost:8080/",
          "height": 34
        },
        "outputId": "1908e449-b9eb-492d-8259-21114145868c"
      },
      "source": [
        "x['crime_rate'].mean()"
      ],
      "execution_count": 64,
      "outputs": [
        {
          "output_type": "execute_result",
          "data": {
            "text/plain": [
              "55.643757384506074"
            ]
          },
          "metadata": {
            "tags": []
          },
          "execution_count": 64
        }
      ]
    },
    {
      "cell_type": "code",
      "metadata": {
        "id": "0NfZADzZelTL",
        "colab_type": "code",
        "colab": {
          "base_uri": "https://localhost:8080/",
          "height": 221
        },
        "outputId": "b7fd79a9-b7b0-4aa1-a025-68fd01b2bcd6"
      },
      "source": [
        "x[x['region']==3].count()"
      ],
      "execution_count": 40,
      "outputs": [
        {
          "output_type": "execute_result",
          "data": {
            "text/plain": [
              "land_area         36\n",
              "percent_city      36\n",
              "percent_senior    36\n",
              "physicians        36\n",
              "hospital_beds     36\n",
              "graduates         36\n",
              "work_force        36\n",
              "income            36\n",
              "region            36\n",
              "crime_rate        36\n",
              "test_func         36\n",
              "dtype: int64"
            ]
          },
          "metadata": {
            "tags": []
          },
          "execution_count": 40
        }
      ]
    },
    {
      "cell_type": "code",
      "metadata": {
        "id": "uXacmcqOfAAe",
        "colab_type": "code",
        "colab": {
          "base_uri": "https://localhost:8080/",
          "height": 221
        },
        "outputId": "3ca742c7-597b-469a-fb4e-6880cce17e24"
      },
      "source": [
        "x[(x['region'] == 3) | (x['land_area'] >= 5000)].count()"
      ],
      "execution_count": 66,
      "outputs": [
        {
          "output_type": "execute_result",
          "data": {
            "text/plain": [
              "land_area         41\n",
              "percent_city      41\n",
              "percent_senior    41\n",
              "physicians        41\n",
              "hospital_beds     41\n",
              "graduates         41\n",
              "work_force        41\n",
              "income            41\n",
              "region            41\n",
              "crime_rate        41\n",
              "test_func         41\n",
              "dtype: int64"
            ]
          },
          "metadata": {
            "tags": []
          },
          "execution_count": 66
        }
      ]
    },
    {
      "cell_type": "code",
      "metadata": {
        "id": "C-Bq_ZEzfNda",
        "colab_type": "code",
        "colab": {
          "base_uri": "https://localhost:8080/",
          "height": 34
        },
        "outputId": "4f1e9fbf-3f2e-4495-ac0f-71b460bef11a"
      },
      "source": [
        "x_avg_crime = x['crime_rate'].mean()\n",
        "x_avg_crime"
      ],
      "execution_count": 44,
      "outputs": [
        {
          "output_type": "execute_result",
          "data": {
            "text/plain": [
              "55.643757384506074"
            ]
          },
          "metadata": {
            "tags": []
          },
          "execution_count": 44
        }
      ]
    },
    {
      "cell_type": "code",
      "metadata": {
        "id": "X8baLK5OfZu7",
        "colab_type": "code",
        "colab": {
          "base_uri": "https://localhost:8080/",
          "height": 700
        },
        "outputId": "0e99a247-6975-4f62-e1f6-3e7124ef63bb"
      },
      "source": [
        "x[x['region']==1]"
      ],
      "execution_count": 45,
      "outputs": [
        {
          "output_type": "execute_result",
          "data": {
            "text/html": [
              "<div>\n",
              "<style scoped>\n",
              "    .dataframe tbody tr th:only-of-type {\n",
              "        vertical-align: middle;\n",
              "    }\n",
              "\n",
              "    .dataframe tbody tr th {\n",
              "        vertical-align: top;\n",
              "    }\n",
              "\n",
              "    .dataframe thead th {\n",
              "        text-align: right;\n",
              "    }\n",
              "</style>\n",
              "<table border=\"1\" class=\"dataframe\">\n",
              "  <thead>\n",
              "    <tr style=\"text-align: right;\">\n",
              "      <th></th>\n",
              "      <th>land_area</th>\n",
              "      <th>percent_city</th>\n",
              "      <th>percent_senior</th>\n",
              "      <th>physicians</th>\n",
              "      <th>hospital_beds</th>\n",
              "      <th>graduates</th>\n",
              "      <th>work_force</th>\n",
              "      <th>income</th>\n",
              "      <th>region</th>\n",
              "      <th>crime_rate</th>\n",
              "      <th>test_func</th>\n",
              "    </tr>\n",
              "  </thead>\n",
              "  <tbody>\n",
              "    <tr>\n",
              "      <th>0</th>\n",
              "      <td>1384</td>\n",
              "      <td>78.1</td>\n",
              "      <td>12.3</td>\n",
              "      <td>25627</td>\n",
              "      <td>69678</td>\n",
              "      <td>50.1</td>\n",
              "      <td>4083.9</td>\n",
              "      <td>72100</td>\n",
              "      <td>1</td>\n",
              "      <td>75.554916</td>\n",
              "      <td>good</td>\n",
              "    </tr>\n",
              "    <tr>\n",
              "      <th>2</th>\n",
              "      <td>3553</td>\n",
              "      <td>37.4</td>\n",
              "      <td>10.7</td>\n",
              "      <td>9724</td>\n",
              "      <td>33731</td>\n",
              "      <td>50.6</td>\n",
              "      <td>2066.3</td>\n",
              "      <td>33216</td>\n",
              "      <td>1</td>\n",
              "      <td>41.322904</td>\n",
              "      <td>good</td>\n",
              "    </tr>\n",
              "    <tr>\n",
              "      <th>8</th>\n",
              "      <td>3049</td>\n",
              "      <td>19.5</td>\n",
              "      <td>12.1</td>\n",
              "      <td>4005</td>\n",
              "      <td>21149</td>\n",
              "      <td>53.4</td>\n",
              "      <td>967.5</td>\n",
              "      <td>15826</td>\n",
              "      <td>1</td>\n",
              "      <td>30.509590</td>\n",
              "      <td>good</td>\n",
              "    </tr>\n",
              "    <tr>\n",
              "      <th>10</th>\n",
              "      <td>1008</td>\n",
              "      <td>16.6</td>\n",
              "      <td>10.3</td>\n",
              "      <td>4006</td>\n",
              "      <td>16704</td>\n",
              "      <td>55.9</td>\n",
              "      <td>935.5</td>\n",
              "      <td>15953</td>\n",
              "      <td>1</td>\n",
              "      <td>54.162519</td>\n",
              "      <td>good</td>\n",
              "    </tr>\n",
              "    <tr>\n",
              "      <th>24</th>\n",
              "      <td>2966</td>\n",
              "      <td>26.9</td>\n",
              "      <td>10.3</td>\n",
              "      <td>2053</td>\n",
              "      <td>6604</td>\n",
              "      <td>56.3</td>\n",
              "      <td>450.4</td>\n",
              "      <td>6966</td>\n",
              "      <td>1</td>\n",
              "      <td>56.550515</td>\n",
              "      <td>good</td>\n",
              "    </tr>\n",
              "    <tr>\n",
              "      <th>28</th>\n",
              "      <td>2624</td>\n",
              "      <td>30.4</td>\n",
              "      <td>12.2</td>\n",
              "      <td>1532</td>\n",
              "      <td>4730</td>\n",
              "      <td>55.2</td>\n",
              "      <td>356.5</td>\n",
              "      <td>5094</td>\n",
              "      <td>1</td>\n",
              "      <td>38.754408</td>\n",
              "      <td>good</td>\n",
              "    </tr>\n",
              "    <tr>\n",
              "      <th>36</th>\n",
              "      <td>2419</td>\n",
              "      <td>27.8</td>\n",
              "      <td>9.9</td>\n",
              "      <td>1250</td>\n",
              "      <td>2870</td>\n",
              "      <td>57.8</td>\n",
              "      <td>286.8</td>\n",
              "      <td>3860</td>\n",
              "      <td>1</td>\n",
              "      <td>47.649150</td>\n",
              "      <td>good</td>\n",
              "    </tr>\n",
              "    <tr>\n",
              "      <th>38</th>\n",
              "      <td>1951</td>\n",
              "      <td>28.4</td>\n",
              "      <td>14.5</td>\n",
              "      <td>696</td>\n",
              "      <td>4843</td>\n",
              "      <td>47.9</td>\n",
              "      <td>271.5</td>\n",
              "      <td>3667</td>\n",
              "      <td>1</td>\n",
              "      <td>23.637520</td>\n",
              "      <td>good</td>\n",
              "    </tr>\n",
              "    <tr>\n",
              "      <th>39</th>\n",
              "      <td>1490</td>\n",
              "      <td>33.1</td>\n",
              "      <td>11.9</td>\n",
              "      <td>827</td>\n",
              "      <td>3818</td>\n",
              "      <td>47.4</td>\n",
              "      <td>300.2</td>\n",
              "      <td>4144</td>\n",
              "      <td>1</td>\n",
              "      <td>30.592949</td>\n",
              "      <td>good</td>\n",
              "    </tr>\n",
              "    <tr>\n",
              "      <th>43</th>\n",
              "      <td>312</td>\n",
              "      <td>19.5</td>\n",
              "      <td>7.5</td>\n",
              "      <td>769</td>\n",
              "      <td>2463</td>\n",
              "      <td>55.0</td>\n",
              "      <td>298.7</td>\n",
              "      <td>4352</td>\n",
              "      <td>1</td>\n",
              "      <td>48.989899</td>\n",
              "      <td>good</td>\n",
              "    </tr>\n",
              "    <tr>\n",
              "      <th>46</th>\n",
              "      <td>47</td>\n",
              "      <td>41.9</td>\n",
              "      <td>11.9</td>\n",
              "      <td>745</td>\n",
              "      <td>3352</td>\n",
              "      <td>36.3</td>\n",
              "      <td>258.9</td>\n",
              "      <td>3915</td>\n",
              "      <td>1</td>\n",
              "      <td>51.696809</td>\n",
              "      <td>good</td>\n",
              "    </tr>\n",
              "    <tr>\n",
              "      <th>55</th>\n",
              "      <td>192</td>\n",
              "      <td>60.5</td>\n",
              "      <td>10.8</td>\n",
              "      <td>617</td>\n",
              "      <td>1789</td>\n",
              "      <td>44.1</td>\n",
              "      <td>212.6</td>\n",
              "      <td>3158</td>\n",
              "      <td>1</td>\n",
              "      <td>58.790043</td>\n",
              "      <td>good</td>\n",
              "    </tr>\n",
              "    <tr>\n",
              "      <th>58</th>\n",
              "      <td>1624</td>\n",
              "      <td>13.4</td>\n",
              "      <td>11.0</td>\n",
              "      <td>832</td>\n",
              "      <td>2938</td>\n",
              "      <td>55.4</td>\n",
              "      <td>207.8</td>\n",
              "      <td>2885</td>\n",
              "      <td>1</td>\n",
              "      <td>39.592075</td>\n",
              "      <td>good</td>\n",
              "    </tr>\n",
              "    <tr>\n",
              "      <th>70</th>\n",
              "      <td>946</td>\n",
              "      <td>16.4</td>\n",
              "      <td>11.1</td>\n",
              "      <td>366</td>\n",
              "      <td>1455</td>\n",
              "      <td>43.9</td>\n",
              "      <td>163.8</td>\n",
              "      <td>2178</td>\n",
              "      <td>1</td>\n",
              "      <td>23.321839</td>\n",
              "      <td>good</td>\n",
              "    </tr>\n",
              "    <tr>\n",
              "      <th>72</th>\n",
              "      <td>2658</td>\n",
              "      <td>39.0</td>\n",
              "      <td>12.2</td>\n",
              "      <td>365</td>\n",
              "      <td>5430</td>\n",
              "      <td>49.9</td>\n",
              "      <td>136.9</td>\n",
              "      <td>1862</td>\n",
              "      <td>1</td>\n",
              "      <td>28.516820</td>\n",
              "      <td>good</td>\n",
              "    </tr>\n",
              "    <tr>\n",
              "      <th>75</th>\n",
              "      <td>2071</td>\n",
              "      <td>19.9</td>\n",
              "      <td>11.3</td>\n",
              "      <td>470</td>\n",
              "      <td>2531</td>\n",
              "      <td>58.9</td>\n",
              "      <td>133.1</td>\n",
              "      <td>1782</td>\n",
              "      <td>1</td>\n",
              "      <td>36.473856</td>\n",
              "      <td>good</td>\n",
              "    </tr>\n",
              "    <tr>\n",
              "      <th>76</th>\n",
              "      <td>862</td>\n",
              "      <td>26.3</td>\n",
              "      <td>13.4</td>\n",
              "      <td>423</td>\n",
              "      <td>1929</td>\n",
              "      <td>43.3</td>\n",
              "      <td>145.5</td>\n",
              "      <td>2010</td>\n",
              "      <td>1</td>\n",
              "      <td>25.493377</td>\n",
              "      <td>good</td>\n",
              "    </tr>\n",
              "    <tr>\n",
              "      <th>86</th>\n",
              "      <td>813</td>\n",
              "      <td>46.0</td>\n",
              "      <td>9.8</td>\n",
              "      <td>293</td>\n",
              "      <td>1693</td>\n",
              "      <td>58.4</td>\n",
              "      <td>119.9</td>\n",
              "      <td>1688</td>\n",
              "      <td>1</td>\n",
              "      <td>38.242647</td>\n",
              "      <td>good</td>\n",
              "    </tr>\n",
              "    <tr>\n",
              "      <th>88</th>\n",
              "      <td>1148</td>\n",
              "      <td>45.3</td>\n",
              "      <td>11.1</td>\n",
              "      <td>891</td>\n",
              "      <td>5790</td>\n",
              "      <td>54.0</td>\n",
              "      <td>277.0</td>\n",
              "      <td>3510</td>\n",
              "      <td>1</td>\n",
              "      <td>49.638370</td>\n",
              "      <td>good</td>\n",
              "    </tr>\n",
              "    <tr>\n",
              "      <th>89</th>\n",
              "      <td>1509</td>\n",
              "      <td>37.6</td>\n",
              "      <td>12.0</td>\n",
              "      <td>1087</td>\n",
              "      <td>4900</td>\n",
              "      <td>51.4</td>\n",
              "      <td>319.6</td>\n",
              "      <td>3982</td>\n",
              "      <td>1</td>\n",
              "      <td>45.191291</td>\n",
              "      <td>good</td>\n",
              "    </tr>\n",
              "    <tr>\n",
              "      <th>97</th>\n",
              "      <td>813</td>\n",
              "      <td>13.4</td>\n",
              "      <td>10.9</td>\n",
              "      <td>371</td>\n",
              "      <td>4355</td>\n",
              "      <td>58.0</td>\n",
              "      <td>97.0</td>\n",
              "      <td>1589</td>\n",
              "      <td>1</td>\n",
              "      <td>36.327586</td>\n",
              "      <td>good</td>\n",
              "    </tr>\n",
              "  </tbody>\n",
              "</table>\n",
              "</div>"
            ],
            "text/plain": [
              "    land_area  percent_city  percent_senior  ...  region  crime_rate  test_func\n",
              "0        1384          78.1            12.3  ...       1   75.554916       good\n",
              "2        3553          37.4            10.7  ...       1   41.322904       good\n",
              "8        3049          19.5            12.1  ...       1   30.509590       good\n",
              "10       1008          16.6            10.3  ...       1   54.162519       good\n",
              "24       2966          26.9            10.3  ...       1   56.550515       good\n",
              "28       2624          30.4            12.2  ...       1   38.754408       good\n",
              "36       2419          27.8             9.9  ...       1   47.649150       good\n",
              "38       1951          28.4            14.5  ...       1   23.637520       good\n",
              "39       1490          33.1            11.9  ...       1   30.592949       good\n",
              "43        312          19.5             7.5  ...       1   48.989899       good\n",
              "46         47          41.9            11.9  ...       1   51.696809       good\n",
              "55        192          60.5            10.8  ...       1   58.790043       good\n",
              "58       1624          13.4            11.0  ...       1   39.592075       good\n",
              "70        946          16.4            11.1  ...       1   23.321839       good\n",
              "72       2658          39.0            12.2  ...       1   28.516820       good\n",
              "75       2071          19.9            11.3  ...       1   36.473856       good\n",
              "76        862          26.3            13.4  ...       1   25.493377       good\n",
              "86        813          46.0             9.8  ...       1   38.242647       good\n",
              "88       1148          45.3            11.1  ...       1   49.638370       good\n",
              "89       1509          37.6            12.0  ...       1   45.191291       good\n",
              "97        813          13.4            10.9  ...       1   36.327586       good\n",
              "\n",
              "[21 rows x 11 columns]"
            ]
          },
          "metadata": {
            "tags": []
          },
          "execution_count": 45
        }
      ]
    },
    {
      "cell_type": "code",
      "metadata": {
        "id": "gXRBXcZPf5U_",
        "colab_type": "code",
        "colab": {
          "base_uri": "https://localhost:8080/",
          "height": 173
        },
        "outputId": "750a942b-656d-4ab0-9c74-d7dc06fbf500"
      },
      "source": [
        "x[(x['region'] == 1) & (x['crime_rate'] >= 54.16)]"
      ],
      "execution_count": 54,
      "outputs": [
        {
          "output_type": "execute_result",
          "data": {
            "text/html": [
              "<div>\n",
              "<style scoped>\n",
              "    .dataframe tbody tr th:only-of-type {\n",
              "        vertical-align: middle;\n",
              "    }\n",
              "\n",
              "    .dataframe tbody tr th {\n",
              "        vertical-align: top;\n",
              "    }\n",
              "\n",
              "    .dataframe thead th {\n",
              "        text-align: right;\n",
              "    }\n",
              "</style>\n",
              "<table border=\"1\" class=\"dataframe\">\n",
              "  <thead>\n",
              "    <tr style=\"text-align: right;\">\n",
              "      <th></th>\n",
              "      <th>land_area</th>\n",
              "      <th>percent_city</th>\n",
              "      <th>percent_senior</th>\n",
              "      <th>physicians</th>\n",
              "      <th>hospital_beds</th>\n",
              "      <th>graduates</th>\n",
              "      <th>work_force</th>\n",
              "      <th>income</th>\n",
              "      <th>region</th>\n",
              "      <th>crime_rate</th>\n",
              "      <th>test_func</th>\n",
              "    </tr>\n",
              "  </thead>\n",
              "  <tbody>\n",
              "    <tr>\n",
              "      <th>0</th>\n",
              "      <td>1384</td>\n",
              "      <td>78.1</td>\n",
              "      <td>12.3</td>\n",
              "      <td>25627</td>\n",
              "      <td>69678</td>\n",
              "      <td>50.1</td>\n",
              "      <td>4083.9</td>\n",
              "      <td>72100</td>\n",
              "      <td>1</td>\n",
              "      <td>75.554916</td>\n",
              "      <td>good</td>\n",
              "    </tr>\n",
              "    <tr>\n",
              "      <th>10</th>\n",
              "      <td>1008</td>\n",
              "      <td>16.6</td>\n",
              "      <td>10.3</td>\n",
              "      <td>4006</td>\n",
              "      <td>16704</td>\n",
              "      <td>55.9</td>\n",
              "      <td>935.5</td>\n",
              "      <td>15953</td>\n",
              "      <td>1</td>\n",
              "      <td>54.162519</td>\n",
              "      <td>good</td>\n",
              "    </tr>\n",
              "    <tr>\n",
              "      <th>24</th>\n",
              "      <td>2966</td>\n",
              "      <td>26.9</td>\n",
              "      <td>10.3</td>\n",
              "      <td>2053</td>\n",
              "      <td>6604</td>\n",
              "      <td>56.3</td>\n",
              "      <td>450.4</td>\n",
              "      <td>6966</td>\n",
              "      <td>1</td>\n",
              "      <td>56.550515</td>\n",
              "      <td>good</td>\n",
              "    </tr>\n",
              "    <tr>\n",
              "      <th>55</th>\n",
              "      <td>192</td>\n",
              "      <td>60.5</td>\n",
              "      <td>10.8</td>\n",
              "      <td>617</td>\n",
              "      <td>1789</td>\n",
              "      <td>44.1</td>\n",
              "      <td>212.6</td>\n",
              "      <td>3158</td>\n",
              "      <td>1</td>\n",
              "      <td>58.790043</td>\n",
              "      <td>good</td>\n",
              "    </tr>\n",
              "  </tbody>\n",
              "</table>\n",
              "</div>"
            ],
            "text/plain": [
              "    land_area  percent_city  percent_senior  ...  region  crime_rate  test_func\n",
              "0        1384          78.1            12.3  ...       1   75.554916       good\n",
              "10       1008          16.6            10.3  ...       1   54.162519       good\n",
              "24       2966          26.9            10.3  ...       1   56.550515       good\n",
              "55        192          60.5            10.8  ...       1   58.790043       good\n",
              "\n",
              "[4 rows x 11 columns]"
            ]
          },
          "metadata": {
            "tags": []
          },
          "execution_count": 54
        }
      ]
    },
    {
      "cell_type": "code",
      "metadata": {
        "id": "GCTS-pUBjIaJ",
        "colab_type": "code",
        "colab": {
          "base_uri": "https://localhost:8080/",
          "height": 265
        },
        "outputId": "f74aca59-28fb-4ddd-9849-8da40fe58126"
      },
      "source": [
        "plt.plot(x.land_area, x.crime_rate, color=\"r\") \n",
        "plt.show()"
      ],
      "execution_count": 55,
      "outputs": [
        {
          "output_type": "display_data",
          "data": {
            "image/png": "[encoded data removed]",
            "text/plain": [
              "<Figure size 432x288 with 1 Axes>"
            ]
          },
          "metadata": {
            "tags": [],
            "needs_background": "light"
          }
        }
      ]
    },
    {
      "cell_type": "code",
      "metadata": {
        "id": "cMUrbUQwjYXF",
        "colab_type": "code",
        "colab": {
          "base_uri": "https://localhost:8080/",
          "height": 282
        },
        "outputId": "112789de-0dd2-40ec-cc22-500b0f3bce95"
      },
      "source": [
        "plt.scatter(x.hospital_beds, x.physicians)"
      ],
      "execution_count": 56,
      "outputs": [
        {
          "output_type": "execute_result",
          "data": {
            "text/plain": [
              "<matplotlib.collections.PathCollection at 0x7f1d19d68550>"
            ]
          },
          "metadata": {
            "tags": []
          },
          "execution_count": 56
        },
        {
          "output_type": "display_data",
          "data": {
            "image/png": "[encoded data removed]",
            "text/plain": [
              "<Figure size 432x288 with 1 Axes>"
            ]
          },
          "metadata": {
            "tags": [],
            "needs_background": "light"
          }
        }
      ]
    },
    {
      "cell_type": "code",
      "metadata": {
        "id": "bhdBLlq5k2PJ",
        "colab_type": "code",
        "colab": {
          "base_uri": "https://localhost:8080/",
          "height": 316
        },
        "outputId": "5eb7b27a-d9b5-4ef6-b373-02e12d360fc2"
      },
      "source": [
        "plt.hist(x.region)"
      ],
      "execution_count": 61,
      "outputs": [
        {
          "output_type": "execute_result",
          "data": {
            "text/plain": [
              "(array([21.,  0.,  0., 25.,  0.,  0., 36.,  0.,  0., 17.]),\n",
              " array([1. , 1.3, 1.6, 1.9, 2.2, 2.5, 2.8, 3.1, 3.4, 3.7, 4. ]),\n",
              " <a list of 10 Patch objects>)"
            ]
          },
          "metadata": {
            "tags": []
          },
          "execution_count": 61
        },
        {
          "output_type": "display_data",
          "data": {
            "image/png": "[encoded data removed]",
            "text/plain": [
              "<Figure size 432x288 with 1 Axes>"
            ]
          },
          "metadata": {
            "tags": [],
            "needs_background": "light"
          }
        }
      ]
    },
    {
      "cell_type": "code",
      "metadata": {
        "id": "WupIXqq6lZh3",
        "colab_type": "code",
        "colab": {
          "base_uri": "https://localhost:8080/",
          "height": 333
        },
        "outputId": "4fdf7218-9020-4b9d-fe79-554ab16eda51"
      },
      "source": [
        "plt.hist(x.income)"
      ],
      "execution_count": 62,
      "outputs": [
        {
          "output_type": "execute_result",
          "data": {
            "text/plain": [
              "(array([80.,  9.,  4.,  2.,  2.,  0.,  0.,  1.,  0.,  1.]),\n",
              " array([  769. ,  7902.1, 15035.2, 22168.3, 29301.4, 36434.5, 43567.6,\n",
              "        50700.7, 57833.8, 64966.9, 72100. ]),\n",
              " <a list of 10 Patch objects>)"
            ]
          },
          "metadata": {
            "tags": []
          },
          "execution_count": 62
        },
        {
          "output_type": "display_data",
          "data": {
            "image/png": "[encoded data removed]",
            "text/plain": [
              "<Figure size 432x288 with 1 Axes>"
            ]
          },
          "metadata": {
            "tags": [],
            "needs_background": "light"
          }
        }
      ]
    },
    {
      "cell_type": "code",
      "metadata": {
        "id": "Oghf6MW7lp_f",
        "colab_type": "code",
        "colab": {
          "base_uri": "https://localhost:8080/",
          "height": 34
        },
        "outputId": "92758b58-479f-43f5-e30c-c1cb948d6b6f"
      },
      "source": [
        "x['hospital_beds'].notnull().sum()"
      ],
      "execution_count": 63,
      "outputs": [
        {
          "output_type": "execute_result",
          "data": {
            "text/plain": [
              "99"
            ]
          },
          "metadata": {
            "tags": []
          },
          "execution_count": 63
        }
      ]
    }
  ]
}