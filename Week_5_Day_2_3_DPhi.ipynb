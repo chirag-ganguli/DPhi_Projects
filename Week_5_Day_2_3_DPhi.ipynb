{
  "nbformat": 4,
  "nbformat_minor": 0,
  "metadata": {
    "colab": {
      "name": "Week 5 Day 2-3 DPhi",
      "provenance": [],
      "collapsed_sections": []
    },
    "kernelspec": {
      "name": "python3",
      "display_name": "Python 3"
    }
  },
  "cells": [
    {
      "cell_type": "code",
      "metadata": {
        "id": "e2Z_8M18eJs2",
        "colab_type": "code",
        "colab": {}
      },
      "source": [
        "import numpy as np\n",
        "import pandas as pd"
      ],
      "execution_count": null,
      "outputs": []
    },
    {
      "cell_type": "code",
      "metadata": {
        "id": "GHFhwiaeeg0C",
        "colab_type": "code",
        "colab": {}
      },
      "source": [
        "house_data = pd.read_csv('https://raw.githubusercontent.com/dphi-official/Datasets/master/kc_house_data/kc_house_data.csv')"
      ],
      "execution_count": null,
      "outputs": []
    },
    {
      "cell_type": "code",
      "metadata": {
        "id": "yLwgKAGPfiaJ",
        "colab_type": "code",
        "colab": {
          "base_uri": "https://localhost:8080/",
          "height": 198
        },
        "outputId": "68e26f09-b99c-4b36-97c6-c168443d734b"
      },
      "source": [
        "house_data.head()"
      ],
      "execution_count": null,
      "outputs": [
        {
          "output_type": "execute_result",
          "data": {
            "text/html": [
              "<div>\n",
              "<style scoped>\n",
              "    .dataframe tbody tr th:only-of-type {\n",
              "        vertical-align: middle;\n",
              "    }\n",
              "\n",
              "    .dataframe tbody tr th {\n",
              "        vertical-align: top;\n",
              "    }\n",
              "\n",
              "    .dataframe thead th {\n",
              "        text-align: right;\n",
              "    }\n",
              "</style>\n",
              "<table border=\"1\" class=\"dataframe\">\n",
              "  <thead>\n",
              "    <tr style=\"text-align: right;\">\n",
              "      <th></th>\n",
              "      <th>price</th>\n",
              "      <th>bedrooms</th>\n",
              "      <th>bathrooms</th>\n",
              "      <th>sqft_living</th>\n",
              "      <th>sqft_lot</th>\n",
              "      <th>floors</th>\n",
              "      <th>waterfront</th>\n",
              "      <th>view</th>\n",
              "      <th>condition</th>\n",
              "      <th>grade</th>\n",
              "      <th>sqft_above</th>\n",
              "      <th>sqft_basement</th>\n",
              "      <th>yr_built</th>\n",
              "      <th>yr_renovated</th>\n",
              "      <th>zipcode</th>\n",
              "      <th>lat</th>\n",
              "      <th>long</th>\n",
              "      <th>sqft_living15</th>\n",
              "      <th>sqft_lot15</th>\n",
              "    </tr>\n",
              "  </thead>\n",
              "  <tbody>\n",
              "    <tr>\n",
              "      <th>0</th>\n",
              "      <td>221900.0</td>\n",
              "      <td>3</td>\n",
              "      <td>1.00</td>\n",
              "      <td>1180</td>\n",
              "      <td>5650</td>\n",
              "      <td>1.0</td>\n",
              "      <td>0</td>\n",
              "      <td>0</td>\n",
              "      <td>3</td>\n",
              "      <td>7</td>\n",
              "      <td>1180</td>\n",
              "      <td>0</td>\n",
              "      <td>1955</td>\n",
              "      <td>0</td>\n",
              "      <td>98178</td>\n",
              "      <td>47.5112</td>\n",
              "      <td>-122.257</td>\n",
              "      <td>1340</td>\n",
              "      <td>5650</td>\n",
              "    </tr>\n",
              "    <tr>\n",
              "      <th>1</th>\n",
              "      <td>538000.0</td>\n",
              "      <td>3</td>\n",
              "      <td>2.25</td>\n",
              "      <td>2570</td>\n",
              "      <td>7242</td>\n",
              "      <td>2.0</td>\n",
              "      <td>0</td>\n",
              "      <td>0</td>\n",
              "      <td>3</td>\n",
              "      <td>7</td>\n",
              "      <td>2170</td>\n",
              "      <td>400</td>\n",
              "      <td>1951</td>\n",
              "      <td>1991</td>\n",
              "      <td>98125</td>\n",
              "      <td>47.7210</td>\n",
              "      <td>-122.319</td>\n",
              "      <td>1690</td>\n",
              "      <td>7639</td>\n",
              "    </tr>\n",
              "    <tr>\n",
              "      <th>2</th>\n",
              "      <td>180000.0</td>\n",
              "      <td>2</td>\n",
              "      <td>1.00</td>\n",
              "      <td>770</td>\n",
              "      <td>10000</td>\n",
              "      <td>1.0</td>\n",
              "      <td>0</td>\n",
              "      <td>0</td>\n",
              "      <td>3</td>\n",
              "      <td>6</td>\n",
              "      <td>770</td>\n",
              "      <td>0</td>\n",
              "      <td>1933</td>\n",
              "      <td>0</td>\n",
              "      <td>98028</td>\n",
              "      <td>47.7379</td>\n",
              "      <td>-122.233</td>\n",
              "      <td>2720</td>\n",
              "      <td>8062</td>\n",
              "    </tr>\n",
              "    <tr>\n",
              "      <th>3</th>\n",
              "      <td>604000.0</td>\n",
              "      <td>4</td>\n",
              "      <td>3.00</td>\n",
              "      <td>1960</td>\n",
              "      <td>5000</td>\n",
              "      <td>1.0</td>\n",
              "      <td>0</td>\n",
              "      <td>0</td>\n",
              "      <td>5</td>\n",
              "      <td>7</td>\n",
              "      <td>1050</td>\n",
              "      <td>910</td>\n",
              "      <td>1965</td>\n",
              "      <td>0</td>\n",
              "      <td>98136</td>\n",
              "      <td>47.5208</td>\n",
              "      <td>-122.393</td>\n",
              "      <td>1360</td>\n",
              "      <td>5000</td>\n",
              "    </tr>\n",
              "    <tr>\n",
              "      <th>4</th>\n",
              "      <td>510000.0</td>\n",
              "      <td>3</td>\n",
              "      <td>2.00</td>\n",
              "      <td>1680</td>\n",
              "      <td>8080</td>\n",
              "      <td>1.0</td>\n",
              "      <td>0</td>\n",
              "      <td>0</td>\n",
              "      <td>3</td>\n",
              "      <td>8</td>\n",
              "      <td>1680</td>\n",
              "      <td>0</td>\n",
              "      <td>1987</td>\n",
              "      <td>0</td>\n",
              "      <td>98074</td>\n",
              "      <td>47.6168</td>\n",
              "      <td>-122.045</td>\n",
              "      <td>1800</td>\n",
              "      <td>7503</td>\n",
              "    </tr>\n",
              "  </tbody>\n",
              "</table>\n",
              "</div>"
            ],
            "text/plain": [
              "      price  bedrooms  bathrooms  ...     long  sqft_living15  sqft_lot15\n",
              "0  221900.0         3       1.00  ... -122.257           1340        5650\n",
              "1  538000.0         3       2.25  ... -122.319           1690        7639\n",
              "2  180000.0         2       1.00  ... -122.233           2720        8062\n",
              "3  604000.0         4       3.00  ... -122.393           1360        5000\n",
              "4  510000.0         3       2.00  ... -122.045           1800        7503\n",
              "\n",
              "[5 rows x 19 columns]"
            ]
          },
          "metadata": {
            "tags": []
          },
          "execution_count": 5
        }
      ]
    },
    {
      "cell_type": "code",
      "metadata": {
        "id": "iL08DbvMfuxo",
        "colab_type": "code",
        "colab": {
          "base_uri": "https://localhost:8080/",
          "height": 381
        },
        "outputId": "a1ac858d-6c4e-4a0b-f374-7c4f182ebe57"
      },
      "source": [
        "house_data.isnull().sum()"
      ],
      "execution_count": null,
      "outputs": [
        {
          "output_type": "execute_result",
          "data": {
            "text/plain": [
              "price            0\n",
              "bedrooms         0\n",
              "bathrooms        0\n",
              "sqft_living      0\n",
              "sqft_lot         0\n",
              "floors           0\n",
              "waterfront       0\n",
              "view             0\n",
              "condition        0\n",
              "grade            0\n",
              "sqft_above       0\n",
              "sqft_basement    0\n",
              "yr_built         0\n",
              "yr_renovated     0\n",
              "zipcode          0\n",
              "lat              0\n",
              "long             0\n",
              "sqft_living15    0\n",
              "sqft_lot15       0\n",
              "dtype: int64"
            ]
          },
          "metadata": {
            "tags": []
          },
          "execution_count": 6
        }
      ]
    },
    {
      "cell_type": "code",
      "metadata": {
        "id": "CAXs5ehqfzFt",
        "colab_type": "code",
        "colab": {
          "base_uri": "https://localhost:8080/",
          "height": 490
        },
        "outputId": "de56bafc-aa0f-4466-b93e-ac5dad1bf7ee"
      },
      "source": [
        "house_data.info()"
      ],
      "execution_count": null,
      "outputs": [
        {
          "output_type": "stream",
          "text": [
            "<class 'pandas.core.frame.DataFrame'>\n",
            "RangeIndex: 16613 entries, 0 to 16612\n",
            "Data columns (total 19 columns):\n",
            " #   Column         Non-Null Count  Dtype  \n",
            "---  ------         --------------  -----  \n",
            " 0   price          16613 non-null  float64\n",
            " 1   bedrooms       16613 non-null  int64  \n",
            " 2   bathrooms      16613 non-null  float64\n",
            " 3   sqft_living    16613 non-null  int64  \n",
            " 4   sqft_lot       16613 non-null  int64  \n",
            " 5   floors         16613 non-null  float64\n",
            " 6   waterfront     16613 non-null  int64  \n",
            " 7   view           16613 non-null  int64  \n",
            " 8   condition      16613 non-null  int64  \n",
            " 9   grade          16613 non-null  int64  \n",
            " 10  sqft_above     16613 non-null  int64  \n",
            " 11  sqft_basement  16613 non-null  int64  \n",
            " 12  yr_built       16613 non-null  int64  \n",
            " 13  yr_renovated   16613 non-null  int64  \n",
            " 14  zipcode        16613 non-null  int64  \n",
            " 15  lat            16613 non-null  float64\n",
            " 16  long           16613 non-null  float64\n",
            " 17  sqft_living15  16613 non-null  int64  \n",
            " 18  sqft_lot15     16613 non-null  int64  \n",
            "dtypes: float64(5), int64(14)\n",
            "memory usage: 2.4 MB\n"
          ],
          "name": "stdout"
        }
      ]
    },
    {
      "cell_type": "code",
      "metadata": {
        "id": "DT1FMm8IgJKn",
        "colab_type": "code",
        "colab": {
          "base_uri": "https://localhost:8080/",
          "height": 308
        },
        "outputId": "b02934b1-6eb3-4924-ffc7-4430e3fa55bc"
      },
      "source": [
        "house_data.describe()"
      ],
      "execution_count": null,
      "outputs": [
        {
          "output_type": "execute_result",
          "data": {
            "text/html": [
              "<div>\n",
              "<style scoped>\n",
              "    .dataframe tbody tr th:only-of-type {\n",
              "        vertical-align: middle;\n",
              "    }\n",
              "\n",
              "    .dataframe tbody tr th {\n",
              "        vertical-align: top;\n",
              "    }\n",
              "\n",
              "    .dataframe thead th {\n",
              "        text-align: right;\n",
              "    }\n",
              "</style>\n",
              "<table border=\"1\" class=\"dataframe\">\n",
              "  <thead>\n",
              "    <tr style=\"text-align: right;\">\n",
              "      <th></th>\n",
              "      <th>price</th>\n",
              "      <th>bedrooms</th>\n",
              "      <th>bathrooms</th>\n",
              "      <th>sqft_living</th>\n",
              "      <th>sqft_lot</th>\n",
              "      <th>floors</th>\n",
              "      <th>waterfront</th>\n",
              "      <th>view</th>\n",
              "      <th>condition</th>\n",
              "      <th>grade</th>\n",
              "      <th>sqft_above</th>\n",
              "      <th>sqft_basement</th>\n",
              "      <th>yr_built</th>\n",
              "      <th>yr_renovated</th>\n",
              "      <th>zipcode</th>\n",
              "      <th>lat</th>\n",
              "      <th>long</th>\n",
              "      <th>sqft_living15</th>\n",
              "      <th>sqft_lot15</th>\n",
              "    </tr>\n",
              "  </thead>\n",
              "  <tbody>\n",
              "    <tr>\n",
              "      <th>count</th>\n",
              "      <td>1.661300e+04</td>\n",
              "      <td>16613.000000</td>\n",
              "      <td>16613.000000</td>\n",
              "      <td>16613.000000</td>\n",
              "      <td>1.661300e+04</td>\n",
              "      <td>16613.000000</td>\n",
              "      <td>16613.000000</td>\n",
              "      <td>16613.000000</td>\n",
              "      <td>16613.000000</td>\n",
              "      <td>16613.000000</td>\n",
              "      <td>16613.000000</td>\n",
              "      <td>16613.000000</td>\n",
              "      <td>16613.000000</td>\n",
              "      <td>16613.000000</td>\n",
              "      <td>16613.000000</td>\n",
              "      <td>16613.000000</td>\n",
              "      <td>16613.000000</td>\n",
              "      <td>16613.000000</td>\n",
              "      <td>16613.000000</td>\n",
              "    </tr>\n",
              "    <tr>\n",
              "      <th>mean</th>\n",
              "      <td>5.335161e+05</td>\n",
              "      <td>3.365918</td>\n",
              "      <td>2.062090</td>\n",
              "      <td>2053.860531</td>\n",
              "      <td>1.573761e+04</td>\n",
              "      <td>1.432553</td>\n",
              "      <td>0.007946</td>\n",
              "      <td>0.244026</td>\n",
              "      <td>3.449708</td>\n",
              "      <td>7.592608</td>\n",
              "      <td>1750.210859</td>\n",
              "      <td>303.649672</td>\n",
              "      <td>1967.297418</td>\n",
              "      <td>89.855234</td>\n",
              "      <td>98078.162283</td>\n",
              "      <td>47.560026</td>\n",
              "      <td>-122.215380</td>\n",
              "      <td>1974.793776</td>\n",
              "      <td>13287.334256</td>\n",
              "    </tr>\n",
              "    <tr>\n",
              "      <th>std</th>\n",
              "      <td>3.665165e+05</td>\n",
              "      <td>0.937185</td>\n",
              "      <td>0.758786</td>\n",
              "      <td>904.438391</td>\n",
              "      <td>4.195449e+04</td>\n",
              "      <td>0.509669</td>\n",
              "      <td>0.088786</td>\n",
              "      <td>0.781695</td>\n",
              "      <td>0.666582</td>\n",
              "      <td>1.168420</td>\n",
              "      <td>804.771068</td>\n",
              "      <td>450.701536</td>\n",
              "      <td>27.936716</td>\n",
              "      <td>413.846846</td>\n",
              "      <td>54.152178</td>\n",
              "      <td>0.139708</td>\n",
              "      <td>0.138657</td>\n",
              "      <td>673.022438</td>\n",
              "      <td>27456.421787</td>\n",
              "    </tr>\n",
              "    <tr>\n",
              "      <th>min</th>\n",
              "      <td>7.500000e+04</td>\n",
              "      <td>0.000000</td>\n",
              "      <td>0.000000</td>\n",
              "      <td>370.000000</td>\n",
              "      <td>5.200000e+02</td>\n",
              "      <td>1.000000</td>\n",
              "      <td>0.000000</td>\n",
              "      <td>0.000000</td>\n",
              "      <td>1.000000</td>\n",
              "      <td>3.000000</td>\n",
              "      <td>370.000000</td>\n",
              "      <td>0.000000</td>\n",
              "      <td>1900.000000</td>\n",
              "      <td>0.000000</td>\n",
              "      <td>98001.000000</td>\n",
              "      <td>47.155900</td>\n",
              "      <td>-122.519000</td>\n",
              "      <td>399.000000</td>\n",
              "      <td>660.000000</td>\n",
              "    </tr>\n",
              "    <tr>\n",
              "      <th>25%</th>\n",
              "      <td>3.150000e+05</td>\n",
              "      <td>3.000000</td>\n",
              "      <td>1.500000</td>\n",
              "      <td>1414.000000</td>\n",
              "      <td>5.454000e+03</td>\n",
              "      <td>1.000000</td>\n",
              "      <td>0.000000</td>\n",
              "      <td>0.000000</td>\n",
              "      <td>3.000000</td>\n",
              "      <td>7.000000</td>\n",
              "      <td>1180.000000</td>\n",
              "      <td>0.000000</td>\n",
              "      <td>1950.000000</td>\n",
              "      <td>0.000000</td>\n",
              "      <td>98033.000000</td>\n",
              "      <td>47.464600</td>\n",
              "      <td>-122.327000</td>\n",
              "      <td>1490.000000</td>\n",
              "      <td>5421.000000</td>\n",
              "    </tr>\n",
              "    <tr>\n",
              "      <th>50%</th>\n",
              "      <td>4.470000e+05</td>\n",
              "      <td>3.000000</td>\n",
              "      <td>2.000000</td>\n",
              "      <td>1900.000000</td>\n",
              "      <td>7.902000e+03</td>\n",
              "      <td>1.000000</td>\n",
              "      <td>0.000000</td>\n",
              "      <td>0.000000</td>\n",
              "      <td>3.000000</td>\n",
              "      <td>7.000000</td>\n",
              "      <td>1530.000000</td>\n",
              "      <td>0.000000</td>\n",
              "      <td>1969.000000</td>\n",
              "      <td>0.000000</td>\n",
              "      <td>98065.000000</td>\n",
              "      <td>47.573000</td>\n",
              "      <td>-122.231000</td>\n",
              "      <td>1830.000000</td>\n",
              "      <td>7823.000000</td>\n",
              "    </tr>\n",
              "    <tr>\n",
              "      <th>75%</th>\n",
              "      <td>6.387000e+05</td>\n",
              "      <td>4.000000</td>\n",
              "      <td>2.500000</td>\n",
              "      <td>2500.000000</td>\n",
              "      <td>1.107000e+04</td>\n",
              "      <td>2.000000</td>\n",
              "      <td>0.000000</td>\n",
              "      <td>0.000000</td>\n",
              "      <td>4.000000</td>\n",
              "      <td>8.000000</td>\n",
              "      <td>2140.000000</td>\n",
              "      <td>600.000000</td>\n",
              "      <td>1990.000000</td>\n",
              "      <td>0.000000</td>\n",
              "      <td>98118.000000</td>\n",
              "      <td>47.679000</td>\n",
              "      <td>-122.127000</td>\n",
              "      <td>2330.000000</td>\n",
              "      <td>10327.000000</td>\n",
              "    </tr>\n",
              "    <tr>\n",
              "      <th>max</th>\n",
              "      <td>7.700000e+06</td>\n",
              "      <td>33.000000</td>\n",
              "      <td>8.000000</td>\n",
              "      <td>13540.000000</td>\n",
              "      <td>1.651359e+06</td>\n",
              "      <td>3.500000</td>\n",
              "      <td>1.000000</td>\n",
              "      <td>4.000000</td>\n",
              "      <td>5.000000</td>\n",
              "      <td>13.000000</td>\n",
              "      <td>9410.000000</td>\n",
              "      <td>4820.000000</td>\n",
              "      <td>2015.000000</td>\n",
              "      <td>2015.000000</td>\n",
              "      <td>98199.000000</td>\n",
              "      <td>47.777600</td>\n",
              "      <td>-121.315000</td>\n",
              "      <td>6110.000000</td>\n",
              "      <td>871200.000000</td>\n",
              "    </tr>\n",
              "  </tbody>\n",
              "</table>\n",
              "</div>"
            ],
            "text/plain": [
              "              price      bedrooms  ...  sqft_living15     sqft_lot15\n",
              "count  1.661300e+04  16613.000000  ...   16613.000000   16613.000000\n",
              "mean   5.335161e+05      3.365918  ...    1974.793776   13287.334256\n",
              "std    3.665165e+05      0.937185  ...     673.022438   27456.421787\n",
              "min    7.500000e+04      0.000000  ...     399.000000     660.000000\n",
              "25%    3.150000e+05      3.000000  ...    1490.000000    5421.000000\n",
              "50%    4.470000e+05      3.000000  ...    1830.000000    7823.000000\n",
              "75%    6.387000e+05      4.000000  ...    2330.000000   10327.000000\n",
              "max    7.700000e+06     33.000000  ...    6110.000000  871200.000000\n",
              "\n",
              "[8 rows x 19 columns]"
            ]
          },
          "metadata": {
            "tags": []
          },
          "execution_count": 8
        }
      ]
    },
    {
      "cell_type": "code",
      "metadata": {
        "id": "RUPNL0lmgNPN",
        "colab_type": "code",
        "colab": {
          "base_uri": "https://localhost:8080/",
          "height": 327
        },
        "outputId": "807381b1-f125-49fe-b57a-4a4022092ff7"
      },
      "source": [
        "house_data.price.value_counts().plot(kind='bar')    "
      ],
      "execution_count": null,
      "outputs": [
        {
          "output_type": "execute_result",
          "data": {
            "text/plain": [
              "<matplotlib.axes._subplots.AxesSubplot at 0x7f30d3afdcc0>"
            ]
          },
          "metadata": {
            "tags": []
          },
          "execution_count": 10
        },
        {
          "output_type": "display_data",
          "data": {
            "image/png": "[encoded data removed]",
            "text/plain": [
              "<Figure size 432x288 with 1 Axes>"
            ]
          },
          "metadata": {
            "tags": [],
            "needs_background": "light"
          }
        }
      ]
    },
    {
      "cell_type": "code",
      "metadata": {
        "id": "Zcuyi-5NgqCW",
        "colab_type": "code",
        "colab": {
          "base_uri": "https://localhost:8080/",
          "height": 108
        },
        "outputId": "5ee06f16-6d31-4844-ab7e-ff7d77637029"
      },
      "source": [
        "house_data.columns"
      ],
      "execution_count": null,
      "outputs": [
        {
          "output_type": "execute_result",
          "data": {
            "text/plain": [
              "Index(['price', 'bedrooms', 'bathrooms', 'sqft_living', 'sqft_lot', 'floors',\n",
              "       'waterfront', 'view', 'condition', 'grade', 'sqft_above',\n",
              "       'sqft_basement', 'yr_built', 'yr_renovated', 'zipcode', 'lat', 'long',\n",
              "       'sqft_living15', 'sqft_lot15'],\n",
              "      dtype='object')"
            ]
          },
          "metadata": {
            "tags": []
          },
          "execution_count": 11
        }
      ]
    },
    {
      "cell_type": "code",
      "metadata": {
        "id": "Gc3l4HmwhL4S",
        "colab_type": "code",
        "colab": {}
      },
      "source": [
        "from sklearn import preprocessing\n",
        "min_max_scaler = preprocessing.MinMaxScaler()\n",
        "col_name = house_data.drop('price', axis = 1).columns[:]\n",
        "x = house_data.loc[:, col_name]\n",
        "y = house_data['price']\n",
        "x = pd.DataFrame(data = min_max_scaler.fit_transform(x), columns = col_name)"
      ],
      "execution_count": null,
      "outputs": []
    },
    {
      "cell_type": "code",
      "metadata": {
        "id": "nYXDdNOGjHZI",
        "colab_type": "code",
        "colab": {
          "base_uri": "https://localhost:8080/",
          "height": 659
        },
        "outputId": "10ededcb-437e-4a50-ddf3-afe08ffcea34"
      },
      "source": [
        "import seaborn as sns\n",
        "import matplotlib.pyplot as plt\n",
        "plt.figure(figsize = (20, 10))\n",
        "sns.heatmap(house_data.corr(), annot = True)\n",
        "plt.show()"
      ],
      "execution_count": null,
      "outputs": [
        {
          "output_type": "display_data",
          "data": {
            "image/png": "[encoded data removed]",
            "text/plain": [
              "<Figure size 1440x720 with 2 Axes>"
            ]
          },
          "metadata": {
            "tags": [],
            "needs_background": "light"
          }
        }
      ]
    },
    {
      "cell_type": "code",
      "metadata": {
        "id": "WoLISYkgjThb",
        "colab_type": "code",
        "colab": {
          "base_uri": "https://localhost:8080/",
          "height": 90
        },
        "outputId": "c150b9a0-c0b1-418e-eaa2-c9dbf228ec3b"
      },
      "source": [
        "from sklearn.model_selection import train_test_split \n",
        "from sklearn.linear_model import LinearRegression\n",
        "from sklearn.metrics import mean_squared_error, r2_score\n",
        "from sklearn import metrics\n",
        "features = house_data.drop('price', axis = 1)\n",
        "target = house_data['price']\n",
        "train_features, test_features, train_target, test_target = train_test_split(features, target, test_size = 0.2, random_state = 1)\n",
        "print(\"Train features shape : \", train_features.shape)\n",
        "print(\"Train target shape   : \", train_target.shape)\n",
        "print(\"Test features shape  : \", test_features.shape)\n",
        "print(\"Test target shape    : \", test_target.shape)"
      ],
      "execution_count": null,
      "outputs": [
        {
          "output_type": "stream",
          "text": [
            "Train features shape :  (13290, 18)\n",
            "Train target shape   :  (13290,)\n",
            "Test features shape  :  (3323, 18)\n",
            "Test target shape    :  (3323,)\n"
          ],
          "name": "stdout"
        }
      ]
    },
    {
      "cell_type": "code",
      "metadata": {
        "id": "kNIkVGAMkPjD",
        "colab_type": "code",
        "colab": {
          "base_uri": "https://localhost:8080/",
          "height": 35
        },
        "outputId": "0ebcbf2e-7195-46f6-dfca-549bacf7580a"
      },
      "source": [
        "model = LinearRegression(normalize = True)\n",
        "model.fit(train_features, train_target)"
      ],
      "execution_count": null,
      "outputs": [
        {
          "output_type": "execute_result",
          "data": {
            "text/plain": [
              "LinearRegression(copy_X=True, fit_intercept=True, n_jobs=None, normalize=True)"
            ]
          },
          "metadata": {
            "tags": []
          },
          "execution_count": 17
        }
      ]
    },
    {
      "cell_type": "code",
      "metadata": {
        "id": "c7GzWOYdlFul",
        "colab_type": "code",
        "colab": {
          "base_uri": "https://localhost:8080/",
          "height": 635
        },
        "outputId": "20b0c249-f357-41ed-bc8e-30535db12c57"
      },
      "source": [
        "# Model evaluation for training set\n",
        "train_target_pred = model.predict(train_features)\n",
        "rmse = (np.sqrt(mean_squared_error(train_target, train_target_pred)))\n",
        "r2 = r2_score(train_target, train_target_pred)\n",
        "\n",
        "# Examine the first 10 predicted output from the model\n",
        "output = pd.DataFrame(train_target[0:10])\n",
        "output['Predicted'] = train_target_pred[0:10]\n",
        "output['Difference'] = output['Predicted'] - output['price']\n",
        "print(output, \"\\n\")\n",
        "\n",
        "print(\"Model training performance:\")\n",
        "print(\"---------------------------\")\n",
        "print('RMSE is {}'.format(rmse))\n",
        "print('R2 score is {}'.format(r2))\n",
        "print(\"\\n\")\n",
        "\n",
        "# Model evaluation for testing set\n",
        "test_target_pred = model.predict(test_features)\n",
        "rmse = (np.sqrt(mean_squared_error(test_target, test_target_pred)))\n",
        "r2 = r2_score(test_target, test_target_pred)\n",
        "\n",
        "output = pd.DataFrame(test_target[0:10])\n",
        "output['Predicted'] = test_target_pred[0:10]\n",
        "output['Difference'] = output['Predicted'] - output['price']\n",
        "print(output, \"\\n\")\n",
        "\n",
        "print(\"Model testing performance:\")\n",
        "print(\"--------------------------\")\n",
        "print('RMSE is {}'.format(rmse))\n",
        "print('R2 score is {}'.format(r2))"
      ],
      "execution_count": null,
      "outputs": [
        {
          "output_type": "stream",
          "text": [
            "           price      Predicted     Difference\n",
            "4834    430000.0  398164.698914  -31835.301086\n",
            "4567    599000.0  495384.357228 -103615.642772\n",
            "12309   270000.0  369718.671479   99718.671479\n",
            "2128    235000.0  150963.255743  -84036.744257\n",
            "924     451000.0  559115.021111  108115.021111\n",
            "15795   315000.0  469775.796459  154775.796459\n",
            "3050    517000.0  362552.264175 -154447.735825\n",
            "9541    825000.0  794480.169936  -30519.830064\n",
            "44      309000.0  156577.264750 -152422.735250\n",
            "11874  1400000.0  871151.104890 -528848.895110 \n",
            "\n",
            "Model training performance:\n",
            "---------------------------\n",
            "RMSE is 198095.1210775298\n",
            "R2 score is 0.6978317762321282\n",
            "\n",
            "\n",
            "          price      Predicted     Difference\n",
            "16050  399000.0  403444.275604    4444.275604\n",
            "7202   500000.0  820599.461540  320599.461540\n",
            "321    520000.0  516273.270009   -3726.729991\n",
            "11958  315000.0  313388.241253   -1611.758747\n",
            "11418  474000.0  590606.583779  116606.583779\n",
            "5363   307000.0  400980.991009   93980.991009\n",
            "13873  390000.0  550149.624542  160149.624542\n",
            "3032   160000.0  142950.103889  -17049.896111\n",
            "11248  575000.0  397850.150915 -177149.849085\n",
            "6411   529000.0  474450.524637  -54549.475363 \n",
            "\n",
            "Model testing performance:\n",
            "--------------------------\n",
            "RMSE is 211044.7162899967\n",
            "R2 score is 0.7072597154329323\n"
          ],
          "name": "stdout"
        }
      ]
    },
    {
      "cell_type": "code",
      "metadata": {
        "id": "uYRE4R1zlPyS",
        "colab_type": "code",
        "colab": {}
      },
      "source": [
        "X = house_data.drop('price', axis = 1)\n",
        "y = house_data.price"
      ],
      "execution_count": null,
      "outputs": []
    },
    {
      "cell_type": "code",
      "metadata": {
        "id": "WNelEWXYmTCn",
        "colab_type": "code",
        "colab": {
          "base_uri": "https://localhost:8080/",
          "height": 126
        },
        "outputId": "78b0792e-9db5-4308-e1b8-9c59542ca806"
      },
      "source": [
        "from sklearn.tree import DecisionTreeRegressor\n",
        "regressor = DecisionTreeRegressor(random_state=42)\n",
        "regressor.fit(X_train,y_train)"
      ],
      "execution_count": null,
      "outputs": [
        {
          "output_type": "execute_result",
          "data": {
            "text/plain": [
              "DecisionTreeRegressor(ccp_alpha=0.0, criterion='mse', max_depth=None,\n",
              "                      max_features=None, max_leaf_nodes=None,\n",
              "                      min_impurity_decrease=0.0, min_impurity_split=None,\n",
              "                      min_samples_leaf=1, min_samples_split=2,\n",
              "                      min_weight_fraction_leaf=0.0, presort='deprecated',\n",
              "                      random_state=42, splitter='best')"
            ]
          },
          "metadata": {
            "tags": []
          },
          "execution_count": 33
        }
      ]
    },
    {
      "cell_type": "code",
      "metadata": {
        "id": "0qB7wR09ngNn",
        "colab_type": "code",
        "colab": {
          "base_uri": "https://localhost:8080/",
          "height": 635
        },
        "outputId": "f9e3ecdc-e76a-40f4-837a-d2c314bcfb47"
      },
      "source": [
        "# Model evaluation for training set\n",
        "train_target_pred = regressor.predict(X_train)\n",
        "rmse = (np.sqrt(mean_squared_error(y_train, train_target_pred)))\n",
        "r2 = r2_score(y_train, train_target_pred)\n",
        "\n",
        "# Examine the first 10 predicted output from the model\n",
        "output = pd.DataFrame(y_train[0:10])\n",
        "output['Predicted'] = train_target_pred[0:10]\n",
        "output['Difference'] = output['Predicted'] - output['price']\n",
        "print(output, \"\\n\")\n",
        "\n",
        "print(\"Model training performance:\")\n",
        "print(\"---------------------------\")\n",
        "print('RMSE is {}'.format(rmse))\n",
        "print('R2 score is {}'.format(r2))\n",
        "print(\"\\n\")\n",
        "# Model evaluation for testing set\n",
        "test_target_pred = model.predict(X_test)\n",
        "rmse = (np.sqrt(mean_squared_error(y_test, test_target_pred)))\n",
        "r2 = r2_score(y_test, test_target_pred)\n",
        "\n",
        "output = pd.DataFrame(y_test[0:10])\n",
        "output['Predicted'] = test_target_pred[0:10]\n",
        "output['Difference'] = output['Predicted'] - output['price']\n",
        "print(output, \"\\n\")\n",
        "\n",
        "print(\"Model testing performance:\")\n",
        "print(\"--------------------------\")\n",
        "print('RMSE is {}'.format(rmse))\n",
        "print('R2 score is {}'.format(r2))"
      ],
      "execution_count": null,
      "outputs": [
        {
          "output_type": "stream",
          "text": [
            "           price  Predicted  Difference\n",
            "274     331000.0   331000.0         0.0\n",
            "2449   1600000.0  1600000.0         0.0\n",
            "3634    550000.0   550000.0         0.0\n",
            "3429    475000.0   475000.0         0.0\n",
            "9270    585000.0   585000.0         0.0\n",
            "1147    510000.0   510000.0         0.0\n",
            "4816    475000.0   475000.0         0.0\n",
            "4649    415900.0   415900.0         0.0\n",
            "5828    455000.0   455000.0         0.0\n",
            "11727  1280000.0  1280000.0         0.0 \n",
            "\n",
            "Model training performance:\n",
            "---------------------------\n",
            "RMSE is 10658.203932695133\n",
            "R2 score is 0.999124345566096\n",
            "\n",
            "\n",
            "           price  Predicted  Difference\n",
            "12396   943500.0   770000.0   -173500.0\n",
            "13614   310000.0   360000.0     50000.0\n",
            "14772   807500.0   805000.0     -2500.0\n",
            "8142    875000.0   835000.0    -40000.0\n",
            "10605   549995.0   403000.0   -146995.0\n",
            "7536   1320000.0   670000.0   -650000.0\n",
            "5364    404000.0   410000.0      6000.0\n",
            "1799    465000.0   675000.0    210000.0\n",
            "6778   1255000.0  1256500.0      1500.0\n",
            "11165   850000.0   728935.0   -121065.0 \n",
            "\n",
            "Model testing performance:\n",
            "--------------------------\n",
            "RMSE is 226775.74218921864\n",
            "R2 score is 0.6629084223809276\n"
          ],
          "name": "stdout"
        }
      ]
    },
    {
      "cell_type": "code",
      "metadata": {
        "id": "lodOOQ2moiM8",
        "colab_type": "code",
        "colab": {
          "base_uri": "https://localhost:8080/",
          "height": 126
        },
        "outputId": "856574d1-9a4f-4292-e7de-a8239f6091c4"
      },
      "source": [
        "from sklearn.tree import DecisionTreeRegressor\n",
        "regressor = DecisionTreeRegressor(max_depth=3, random_state=42)\n",
        "regressor.fit(X_train,y_train)"
      ],
      "execution_count": null,
      "outputs": [
        {
          "output_type": "execute_result",
          "data": {
            "text/plain": [
              "DecisionTreeRegressor(ccp_alpha=0.0, criterion='mse', max_depth=3,\n",
              "                      max_features=None, max_leaf_nodes=None,\n",
              "                      min_impurity_decrease=0.0, min_impurity_split=None,\n",
              "                      min_samples_leaf=1, min_samples_split=2,\n",
              "                      min_weight_fraction_leaf=0.0, presort='deprecated',\n",
              "                      random_state=42, splitter='best')"
            ]
          },
          "metadata": {
            "tags": []
          },
          "execution_count": 35
        }
      ]
    },
    {
      "cell_type": "code",
      "metadata": {
        "id": "Gqw1B1RNq9ce",
        "colab_type": "code",
        "colab": {
          "base_uri": "https://localhost:8080/",
          "height": 635
        },
        "outputId": "ed8951ae-f11d-4363-d77b-be3866d4dc69"
      },
      "source": [
        "# Model evaluation for training set\n",
        "train_target_pred = regressor.predict(X_train)\n",
        "rmse = (np.sqrt(mean_squared_error(y_train, train_target_pred)))\n",
        "r2 = r2_score(y_train, train_target_pred)\n",
        "\n",
        "# Examine the first 10 predicted output from the model\n",
        "output = pd.DataFrame(y_train[0:10])\n",
        "output['Predicted'] = train_target_pred[0:10]\n",
        "output['Difference'] = output['Predicted'] - output['price']\n",
        "print(output, \"\\n\")\n",
        "\n",
        "print(\"Model training performance:\")\n",
        "print(\"---------------------------\")\n",
        "print('RMSE is {}'.format(rmse))\n",
        "print('R2 score is {}'.format(r2))\n",
        "print(\"\\n\")\n",
        "# Model evaluation for testing set\n",
        "test_target_pred = model.predict(X_test)\n",
        "rmse = (np.sqrt(mean_squared_error(y_test, test_target_pred)))\n",
        "r2 = r2_score(y_test, test_target_pred)\n",
        "\n",
        "output = pd.DataFrame(y_test[0:10])\n",
        "output['Predicted'] = test_target_pred[0:10]\n",
        "output['Difference'] = output['Predicted'] - output['price']\n",
        "print(output, \"\\n\")\n",
        "\n",
        "print(\"Model testing performance:\")\n",
        "print(\"--------------------------\")\n",
        "print('RMSE is {}'.format(rmse))\n",
        "print('R2 score is {}'.format(r2))"
      ],
      "execution_count": null,
      "outputs": [
        {
          "output_type": "stream",
          "text": [
            "           price     Predicted     Difference\n",
            "274     331000.0  4.653782e+05  134378.238209\n",
            "2449   1600000.0  1.165596e+06 -434404.401015\n",
            "3634    550000.0  6.574484e+05  107448.433649\n",
            "3429    475000.0  4.653782e+05   -9621.761791\n",
            "9270    585000.0  7.826442e+05  197644.245134\n",
            "1147    510000.0  6.574484e+05  147448.433649\n",
            "4816    475000.0  6.574484e+05  182448.433649\n",
            "4649    415900.0  2.687634e+05 -147136.645701\n",
            "5828    455000.0  7.826442e+05  327644.245134\n",
            "11727  1280000.0  1.165596e+06 -114404.401015 \n",
            "\n",
            "Model training performance:\n",
            "---------------------------\n",
            "RMSE is 219602.74851126948\n",
            "R2 score is 0.6282591887370732\n",
            "\n",
            "\n",
            "           price  Predicted  Difference\n",
            "12396   943500.0   770000.0   -173500.0\n",
            "13614   310000.0   360000.0     50000.0\n",
            "14772   807500.0   805000.0     -2500.0\n",
            "8142    875000.0   835000.0    -40000.0\n",
            "10605   549995.0   403000.0   -146995.0\n",
            "7536   1320000.0   670000.0   -650000.0\n",
            "5364    404000.0   410000.0      6000.0\n",
            "1799    465000.0   675000.0    210000.0\n",
            "6778   1255000.0  1256500.0      1500.0\n",
            "11165   850000.0   728935.0   -121065.0 \n",
            "\n",
            "Model testing performance:\n",
            "--------------------------\n",
            "RMSE is 226775.74218921864\n",
            "R2 score is 0.6629084223809276\n"
          ],
          "name": "stdout"
        }
      ]
    },
    {
      "cell_type": "code",
      "metadata": {
        "id": "6C7rddjyrAZw",
        "colab_type": "code",
        "colab": {
          "base_uri": "https://localhost:8080/",
          "height": 35
        },
        "outputId": "224dda5f-a57e-4a14-dba5-cd4cea66ae17"
      },
      "source": [
        "from sklearn.tree import DecisionTreeRegressor\n",
        "regressor = DecisionTreeRegressor(random_state=42)\n",
        "regressor.fit(X_train,y_train)\n",
        "from sklearn.metrics import mean_absolute_error\n",
        "test_target_pred = model.predict(X_test)\n",
        "mean_absolute_error(y_test, test_target_pred)"
      ],
      "execution_count": null,
      "outputs": [
        {
          "output_type": "execute_result",
          "data": {
            "text/plain": [
              "119545.67378874512"
            ]
          },
          "metadata": {
            "tags": []
          },
          "execution_count": 38
        }
      ]
    },
    {
      "cell_type": "code",
      "metadata": {
        "id": "K4yMUTQ-tdbC",
        "colab_type": "code",
        "colab": {
          "base_uri": "https://localhost:8080/",
          "height": 145
        },
        "outputId": "f114b807-fcab-4ab2-a305-9e1a38f2f159"
      },
      "source": [
        "from sklearn.ensemble import RandomForestRegressor\n",
        "regressor = RandomForestRegressor(n_estimators=10, random_state=42)\n",
        "regressor.fit(X_train,y_train)"
      ],
      "execution_count": null,
      "outputs": [
        {
          "output_type": "execute_result",
          "data": {
            "text/plain": [
              "RandomForestRegressor(bootstrap=True, ccp_alpha=0.0, criterion='mse',\n",
              "                      max_depth=None, max_features='auto', max_leaf_nodes=None,\n",
              "                      max_samples=None, min_impurity_decrease=0.0,\n",
              "                      min_impurity_split=None, min_samples_leaf=1,\n",
              "                      min_samples_split=2, min_weight_fraction_leaf=0.0,\n",
              "                      n_estimators=10, n_jobs=None, oob_score=False,\n",
              "                      random_state=42, verbose=0, warm_start=False)"
            ]
          },
          "metadata": {
            "tags": []
          },
          "execution_count": 43
        }
      ]
    },
    {
      "cell_type": "code",
      "metadata": {
        "id": "Cg0Nfudiuhqn",
        "colab_type": "code",
        "colab": {
          "base_uri": "https://localhost:8080/",
          "height": 35
        },
        "outputId": "ca458ecc-fdf2-46ab-e906-492a2835ef75"
      },
      "source": [
        "from sklearn.metrics import mean_absolute_error\n",
        "test_target_pred = model.predict(X_test)\n",
        "mean_absolute_error(y_test, test_target_pred)"
      ],
      "execution_count": null,
      "outputs": [
        {
          "output_type": "execute_result",
          "data": {
            "text/plain": [
              "119545.67378874512"
            ]
          },
          "metadata": {
            "tags": []
          },
          "execution_count": 44
        }
      ]
    },
    {
      "cell_type": "code",
      "metadata": {
        "id": "iUeZ7mwvv7mY",
        "colab_type": "code",
        "colab": {
          "base_uri": "https://localhost:8080/",
          "height": 308
        },
        "outputId": "4d643599-8e70-429a-904f-1eb6839f5ced"
      },
      "source": [
        "# Model evaluation for testing set\n",
        "test_target_pred = model.predict(X_test)\n",
        "rmse = (np.sqrt(mean_squared_error(y_test, test_target_pred)))\n",
        "r2 = r2_score(y_test, test_target_pred)\n",
        "\n",
        "output = pd.DataFrame(y_test[0:10])\n",
        "output['Predicted'] = test_target_pred[0:10]\n",
        "output['Difference'] = output['Predicted'] - output['price']\n",
        "print(output, \"\\n\")\n",
        "\n",
        "print(\"Model testing performance:\")\n",
        "print(\"--------------------------\")\n",
        "print('RMSE is {}'.format(rmse))\n",
        "print('R2 score is {}'.format(r2))"
      ],
      "execution_count": null,
      "outputs": [
        {
          "output_type": "stream",
          "text": [
            "           price  Predicted  Difference\n",
            "12396   943500.0   770000.0   -173500.0\n",
            "13614   310000.0   360000.0     50000.0\n",
            "14772   807500.0   805000.0     -2500.0\n",
            "8142    875000.0   835000.0    -40000.0\n",
            "10605   549995.0   403000.0   -146995.0\n",
            "7536   1320000.0   670000.0   -650000.0\n",
            "5364    404000.0   410000.0      6000.0\n",
            "1799    465000.0   675000.0    210000.0\n",
            "6778   1255000.0  1256500.0      1500.0\n",
            "11165   850000.0   728935.0   -121065.0 \n",
            "\n",
            "Model testing performance:\n",
            "--------------------------\n",
            "RMSE is 226775.74218921864\n",
            "R2 score is 0.6629084223809276\n"
          ],
          "name": "stdout"
        }
      ]
    },
    {
      "cell_type": "code",
      "metadata": {
        "id": "O8ez6Ch0whNQ",
        "colab_type": "code",
        "colab": {
          "base_uri": "https://localhost:8080/",
          "height": 35
        },
        "outputId": "78460b4e-d79b-4d4f-8537-6e297e4ea351"
      },
      "source": [
        "print(\"Root Mean Squared Error: \",mean_squared_error(y_test, test_target_pred, squared=False))"
      ],
      "execution_count": null,
      "outputs": [
        {
          "output_type": "stream",
          "text": [
            "Root Mean Squared Error:  226775.74218921864\n"
          ],
          "name": "stdout"
        }
      ]
    },
    {
      "cell_type": "code",
      "metadata": {
        "id": "HsX4azP1xp64",
        "colab_type": "code",
        "colab": {}
      },
      "source": [
        "liver_data = pd.read_csv('https://raw.githubusercontent.com/dphi-official/Datasets/master/liver_patient_data/liver_patient_new_quiz_2_3.csv')"
      ],
      "execution_count": null,
      "outputs": []
    },
    {
      "cell_type": "code",
      "metadata": {
        "id": "BQrahdYtylfC",
        "colab_type": "code",
        "colab": {
          "base_uri": "https://localhost:8080/",
          "height": 198
        },
        "outputId": "900cbc07-9dba-4c87-b535-d3e95dedfc0f"
      },
      "source": [
        "liver_data.head()"
      ],
      "execution_count": null,
      "outputs": [
        {
          "output_type": "execute_result",
          "data": {
            "text/html": [
              "<div>\n",
              "<style scoped>\n",
              "    .dataframe tbody tr th:only-of-type {\n",
              "        vertical-align: middle;\n",
              "    }\n",
              "\n",
              "    .dataframe tbody tr th {\n",
              "        vertical-align: top;\n",
              "    }\n",
              "\n",
              "    .dataframe thead th {\n",
              "        text-align: right;\n",
              "    }\n",
              "</style>\n",
              "<table border=\"1\" class=\"dataframe\">\n",
              "  <thead>\n",
              "    <tr style=\"text-align: right;\">\n",
              "      <th></th>\n",
              "      <th>Age</th>\n",
              "      <th>Gender</th>\n",
              "      <th>Total_Bilirubin</th>\n",
              "      <th>Direct_Bilirubin</th>\n",
              "      <th>Alkaline_Phosphotase</th>\n",
              "      <th>Alamine_Aminotransferase</th>\n",
              "      <th>Aspartate_Aminotransferase</th>\n",
              "      <th>Total_Protiens</th>\n",
              "      <th>Albumin</th>\n",
              "      <th>Albumin_and_Globulin_Ratio</th>\n",
              "      <th>Liver_Problem</th>\n",
              "    </tr>\n",
              "  </thead>\n",
              "  <tbody>\n",
              "    <tr>\n",
              "      <th>0</th>\n",
              "      <td>65</td>\n",
              "      <td>Female</td>\n",
              "      <td>0.7</td>\n",
              "      <td>0.1</td>\n",
              "      <td>187</td>\n",
              "      <td>16</td>\n",
              "      <td>18</td>\n",
              "      <td>6.8</td>\n",
              "      <td>3.3</td>\n",
              "      <td>0.90</td>\n",
              "      <td>1</td>\n",
              "    </tr>\n",
              "    <tr>\n",
              "      <th>1</th>\n",
              "      <td>62</td>\n",
              "      <td>Male</td>\n",
              "      <td>10.9</td>\n",
              "      <td>5.5</td>\n",
              "      <td>699</td>\n",
              "      <td>64</td>\n",
              "      <td>100</td>\n",
              "      <td>7.5</td>\n",
              "      <td>3.2</td>\n",
              "      <td>0.74</td>\n",
              "      <td>1</td>\n",
              "    </tr>\n",
              "    <tr>\n",
              "      <th>2</th>\n",
              "      <td>62</td>\n",
              "      <td>Male</td>\n",
              "      <td>7.3</td>\n",
              "      <td>4.1</td>\n",
              "      <td>490</td>\n",
              "      <td>60</td>\n",
              "      <td>68</td>\n",
              "      <td>7.0</td>\n",
              "      <td>3.3</td>\n",
              "      <td>0.89</td>\n",
              "      <td>1</td>\n",
              "    </tr>\n",
              "    <tr>\n",
              "      <th>3</th>\n",
              "      <td>58</td>\n",
              "      <td>Male</td>\n",
              "      <td>1.0</td>\n",
              "      <td>0.4</td>\n",
              "      <td>182</td>\n",
              "      <td>14</td>\n",
              "      <td>20</td>\n",
              "      <td>6.8</td>\n",
              "      <td>3.4</td>\n",
              "      <td>1.00</td>\n",
              "      <td>1</td>\n",
              "    </tr>\n",
              "    <tr>\n",
              "      <th>4</th>\n",
              "      <td>72</td>\n",
              "      <td>Male</td>\n",
              "      <td>3.9</td>\n",
              "      <td>2.0</td>\n",
              "      <td>195</td>\n",
              "      <td>27</td>\n",
              "      <td>59</td>\n",
              "      <td>7.3</td>\n",
              "      <td>2.4</td>\n",
              "      <td>0.40</td>\n",
              "      <td>1</td>\n",
              "    </tr>\n",
              "  </tbody>\n",
              "</table>\n",
              "</div>"
            ],
            "text/plain": [
              "   Age  Gender  ...  Albumin_and_Globulin_Ratio  Liver_Problem\n",
              "0   65  Female  ...                        0.90              1\n",
              "1   62    Male  ...                        0.74              1\n",
              "2   62    Male  ...                        0.89              1\n",
              "3   58    Male  ...                        1.00              1\n",
              "4   72    Male  ...                        0.40              1\n",
              "\n",
              "[5 rows x 11 columns]"
            ]
          },
          "metadata": {
            "tags": []
          },
          "execution_count": 48
        }
      ]
    },
    {
      "cell_type": "code",
      "metadata": {
        "id": "kQEGrU56ynL4",
        "colab_type": "code",
        "colab": {
          "base_uri": "https://localhost:8080/",
          "height": 345
        },
        "outputId": "d3be81db-711c-4f83-e73c-68b97fa50769"
      },
      "source": [
        "liver_data.info()"
      ],
      "execution_count": null,
      "outputs": [
        {
          "output_type": "stream",
          "text": [
            "<class 'pandas.core.frame.DataFrame'>\n",
            "RangeIndex: 500 entries, 0 to 499\n",
            "Data columns (total 11 columns):\n",
            " #   Column                      Non-Null Count  Dtype  \n",
            "---  ------                      --------------  -----  \n",
            " 0   Age                         500 non-null    int64  \n",
            " 1   Gender                      500 non-null    object \n",
            " 2   Total_Bilirubin             500 non-null    float64\n",
            " 3   Direct_Bilirubin            500 non-null    float64\n",
            " 4   Alkaline_Phosphotase        500 non-null    int64  \n",
            " 5   Alamine_Aminotransferase    500 non-null    int64  \n",
            " 6   Aspartate_Aminotransferase  500 non-null    int64  \n",
            " 7   Total_Protiens              500 non-null    float64\n",
            " 8   Albumin                     500 non-null    float64\n",
            " 9   Albumin_and_Globulin_Ratio  496 non-null    float64\n",
            " 10  Liver_Problem               500 non-null    int64  \n",
            "dtypes: float64(5), int64(5), object(1)\n",
            "memory usage: 43.1+ KB\n"
          ],
          "name": "stdout"
        }
      ]
    },
    {
      "cell_type": "code",
      "metadata": {
        "id": "_rhtVRtzypsv",
        "colab_type": "code",
        "colab": {
          "base_uri": "https://localhost:8080/",
          "height": 235
        },
        "outputId": "935d19ef-8b97-4494-c864-ab946cdfddb1"
      },
      "source": [
        "liver_data.isnull().sum()"
      ],
      "execution_count": null,
      "outputs": [
        {
          "output_type": "execute_result",
          "data": {
            "text/plain": [
              "Age                           0\n",
              "Gender                        0\n",
              "Total_Bilirubin               0\n",
              "Direct_Bilirubin              0\n",
              "Alkaline_Phosphotase          0\n",
              "Alamine_Aminotransferase      0\n",
              "Aspartate_Aminotransferase    0\n",
              "Total_Protiens                0\n",
              "Albumin                       0\n",
              "Albumin_and_Globulin_Ratio    4\n",
              "Liver_Problem                 0\n",
              "dtype: int64"
            ]
          },
          "metadata": {
            "tags": []
          },
          "execution_count": 50
        }
      ]
    },
    {
      "cell_type": "code",
      "metadata": {
        "id": "tRwgSeiyyvCB",
        "colab_type": "code",
        "colab": {}
      },
      "source": [
        "liver_data = pd.get_dummies(liver_data, columns = ['Gender'])"
      ],
      "execution_count": null,
      "outputs": []
    },
    {
      "cell_type": "code",
      "metadata": {
        "id": "APRHJKrIzC4l",
        "colab_type": "code",
        "colab": {
          "base_uri": "https://localhost:8080/",
          "height": 218
        },
        "outputId": "177fd51b-8ea2-4af7-e878-c6deaba77abc"
      },
      "source": [
        "liver_data.head()"
      ],
      "execution_count": null,
      "outputs": [
        {
          "output_type": "execute_result",
          "data": {
            "text/html": [
              "<div>\n",
              "<style scoped>\n",
              "    .dataframe tbody tr th:only-of-type {\n",
              "        vertical-align: middle;\n",
              "    }\n",
              "\n",
              "    .dataframe tbody tr th {\n",
              "        vertical-align: top;\n",
              "    }\n",
              "\n",
              "    .dataframe thead th {\n",
              "        text-align: right;\n",
              "    }\n",
              "</style>\n",
              "<table border=\"1\" class=\"dataframe\">\n",
              "  <thead>\n",
              "    <tr style=\"text-align: right;\">\n",
              "      <th></th>\n",
              "      <th>Age</th>\n",
              "      <th>Total_Bilirubin</th>\n",
              "      <th>Direct_Bilirubin</th>\n",
              "      <th>Alkaline_Phosphotase</th>\n",
              "      <th>Alamine_Aminotransferase</th>\n",
              "      <th>Aspartate_Aminotransferase</th>\n",
              "      <th>Total_Protiens</th>\n",
              "      <th>Albumin</th>\n",
              "      <th>Albumin_and_Globulin_Ratio</th>\n",
              "      <th>Liver_Problem</th>\n",
              "      <th>Gender_Female</th>\n",
              "      <th>Gender_Male</th>\n",
              "    </tr>\n",
              "  </thead>\n",
              "  <tbody>\n",
              "    <tr>\n",
              "      <th>0</th>\n",
              "      <td>65</td>\n",
              "      <td>0.7</td>\n",
              "      <td>0.1</td>\n",
              "      <td>187</td>\n",
              "      <td>16</td>\n",
              "      <td>18</td>\n",
              "      <td>6.8</td>\n",
              "      <td>3.3</td>\n",
              "      <td>0.90</td>\n",
              "      <td>1</td>\n",
              "      <td>1</td>\n",
              "      <td>0</td>\n",
              "    </tr>\n",
              "    <tr>\n",
              "      <th>1</th>\n",
              "      <td>62</td>\n",
              "      <td>10.9</td>\n",
              "      <td>5.5</td>\n",
              "      <td>699</td>\n",
              "      <td>64</td>\n",
              "      <td>100</td>\n",
              "      <td>7.5</td>\n",
              "      <td>3.2</td>\n",
              "      <td>0.74</td>\n",
              "      <td>1</td>\n",
              "      <td>0</td>\n",
              "      <td>1</td>\n",
              "    </tr>\n",
              "    <tr>\n",
              "      <th>2</th>\n",
              "      <td>62</td>\n",
              "      <td>7.3</td>\n",
              "      <td>4.1</td>\n",
              "      <td>490</td>\n",
              "      <td>60</td>\n",
              "      <td>68</td>\n",
              "      <td>7.0</td>\n",
              "      <td>3.3</td>\n",
              "      <td>0.89</td>\n",
              "      <td>1</td>\n",
              "      <td>0</td>\n",
              "      <td>1</td>\n",
              "    </tr>\n",
              "    <tr>\n",
              "      <th>3</th>\n",
              "      <td>58</td>\n",
              "      <td>1.0</td>\n",
              "      <td>0.4</td>\n",
              "      <td>182</td>\n",
              "      <td>14</td>\n",
              "      <td>20</td>\n",
              "      <td>6.8</td>\n",
              "      <td>3.4</td>\n",
              "      <td>1.00</td>\n",
              "      <td>1</td>\n",
              "      <td>0</td>\n",
              "      <td>1</td>\n",
              "    </tr>\n",
              "    <tr>\n",
              "      <th>4</th>\n",
              "      <td>72</td>\n",
              "      <td>3.9</td>\n",
              "      <td>2.0</td>\n",
              "      <td>195</td>\n",
              "      <td>27</td>\n",
              "      <td>59</td>\n",
              "      <td>7.3</td>\n",
              "      <td>2.4</td>\n",
              "      <td>0.40</td>\n",
              "      <td>1</td>\n",
              "      <td>0</td>\n",
              "      <td>1</td>\n",
              "    </tr>\n",
              "  </tbody>\n",
              "</table>\n",
              "</div>"
            ],
            "text/plain": [
              "   Age  Total_Bilirubin  ...  Gender_Female  Gender_Male\n",
              "0   65              0.7  ...              1            0\n",
              "1   62             10.9  ...              0            1\n",
              "2   62              7.3  ...              0            1\n",
              "3   58              1.0  ...              0            1\n",
              "4   72              3.9  ...              0            1\n",
              "\n",
              "[5 rows x 12 columns]"
            ]
          },
          "metadata": {
            "tags": []
          },
          "execution_count": 55
        }
      ]
    },
    {
      "cell_type": "code",
      "metadata": {
        "id": "X89GjT3jzau9",
        "colab_type": "code",
        "colab": {}
      },
      "source": [
        "liver_data['Albumin_and_Globulin_Ratio'] = liver_data['Albumin_and_Globulin_Ratio'].fillna(liver_data['Albumin_and_Globulin_Ratio'].mean())"
      ],
      "execution_count": null,
      "outputs": []
    },
    {
      "cell_type": "code",
      "metadata": {
        "id": "0xj3OYXMzkN6",
        "colab_type": "code",
        "colab": {
          "base_uri": "https://localhost:8080/",
          "height": 218
        },
        "outputId": "0f9f3bdb-8d1e-4193-ebf5-be042323449c"
      },
      "source": [
        "liver_data.head()"
      ],
      "execution_count": null,
      "outputs": [
        {
          "output_type": "execute_result",
          "data": {
            "text/html": [
              "<div>\n",
              "<style scoped>\n",
              "    .dataframe tbody tr th:only-of-type {\n",
              "        vertical-align: middle;\n",
              "    }\n",
              "\n",
              "    .dataframe tbody tr th {\n",
              "        vertical-align: top;\n",
              "    }\n",
              "\n",
              "    .dataframe thead th {\n",
              "        text-align: right;\n",
              "    }\n",
              "</style>\n",
              "<table border=\"1\" class=\"dataframe\">\n",
              "  <thead>\n",
              "    <tr style=\"text-align: right;\">\n",
              "      <th></th>\n",
              "      <th>Age</th>\n",
              "      <th>Total_Bilirubin</th>\n",
              "      <th>Direct_Bilirubin</th>\n",
              "      <th>Alkaline_Phosphotase</th>\n",
              "      <th>Alamine_Aminotransferase</th>\n",
              "      <th>Aspartate_Aminotransferase</th>\n",
              "      <th>Total_Protiens</th>\n",
              "      <th>Albumin</th>\n",
              "      <th>Albumin_and_Globulin_Ratio</th>\n",
              "      <th>Liver_Problem</th>\n",
              "      <th>Gender_Female</th>\n",
              "      <th>Gender_Male</th>\n",
              "    </tr>\n",
              "  </thead>\n",
              "  <tbody>\n",
              "    <tr>\n",
              "      <th>0</th>\n",
              "      <td>65</td>\n",
              "      <td>0.7</td>\n",
              "      <td>0.1</td>\n",
              "      <td>187</td>\n",
              "      <td>16</td>\n",
              "      <td>18</td>\n",
              "      <td>6.8</td>\n",
              "      <td>3.3</td>\n",
              "      <td>0.90</td>\n",
              "      <td>1</td>\n",
              "      <td>1</td>\n",
              "      <td>0</td>\n",
              "    </tr>\n",
              "    <tr>\n",
              "      <th>1</th>\n",
              "      <td>62</td>\n",
              "      <td>10.9</td>\n",
              "      <td>5.5</td>\n",
              "      <td>699</td>\n",
              "      <td>64</td>\n",
              "      <td>100</td>\n",
              "      <td>7.5</td>\n",
              "      <td>3.2</td>\n",
              "      <td>0.74</td>\n",
              "      <td>1</td>\n",
              "      <td>0</td>\n",
              "      <td>1</td>\n",
              "    </tr>\n",
              "    <tr>\n",
              "      <th>2</th>\n",
              "      <td>62</td>\n",
              "      <td>7.3</td>\n",
              "      <td>4.1</td>\n",
              "      <td>490</td>\n",
              "      <td>60</td>\n",
              "      <td>68</td>\n",
              "      <td>7.0</td>\n",
              "      <td>3.3</td>\n",
              "      <td>0.89</td>\n",
              "      <td>1</td>\n",
              "      <td>0</td>\n",
              "      <td>1</td>\n",
              "    </tr>\n",
              "    <tr>\n",
              "      <th>3</th>\n",
              "      <td>58</td>\n",
              "      <td>1.0</td>\n",
              "      <td>0.4</td>\n",
              "      <td>182</td>\n",
              "      <td>14</td>\n",
              "      <td>20</td>\n",
              "      <td>6.8</td>\n",
              "      <td>3.4</td>\n",
              "      <td>1.00</td>\n",
              "      <td>1</td>\n",
              "      <td>0</td>\n",
              "      <td>1</td>\n",
              "    </tr>\n",
              "    <tr>\n",
              "      <th>4</th>\n",
              "      <td>72</td>\n",
              "      <td>3.9</td>\n",
              "      <td>2.0</td>\n",
              "      <td>195</td>\n",
              "      <td>27</td>\n",
              "      <td>59</td>\n",
              "      <td>7.3</td>\n",
              "      <td>2.4</td>\n",
              "      <td>0.40</td>\n",
              "      <td>1</td>\n",
              "      <td>0</td>\n",
              "      <td>1</td>\n",
              "    </tr>\n",
              "  </tbody>\n",
              "</table>\n",
              "</div>"
            ],
            "text/plain": [
              "   Age  Total_Bilirubin  ...  Gender_Female  Gender_Male\n",
              "0   65              0.7  ...              1            0\n",
              "1   62             10.9  ...              0            1\n",
              "2   62              7.3  ...              0            1\n",
              "3   58              1.0  ...              0            1\n",
              "4   72              3.9  ...              0            1\n",
              "\n",
              "[5 rows x 12 columns]"
            ]
          },
          "metadata": {
            "tags": []
          },
          "execution_count": 57
        }
      ]
    },
    {
      "cell_type": "code",
      "metadata": {
        "id": "d7xWXTiezl86",
        "colab_type": "code",
        "colab": {
          "base_uri": "https://localhost:8080/",
          "height": 363
        },
        "outputId": "a688c73d-6b5d-4c86-9c9a-d830cbdb684b"
      },
      "source": [
        "liver_data.info()"
      ],
      "execution_count": null,
      "outputs": [
        {
          "output_type": "stream",
          "text": [
            "<class 'pandas.core.frame.DataFrame'>\n",
            "RangeIndex: 500 entries, 0 to 499\n",
            "Data columns (total 12 columns):\n",
            " #   Column                      Non-Null Count  Dtype  \n",
            "---  ------                      --------------  -----  \n",
            " 0   Age                         500 non-null    int64  \n",
            " 1   Total_Bilirubin             500 non-null    float64\n",
            " 2   Direct_Bilirubin            500 non-null    float64\n",
            " 3   Alkaline_Phosphotase        500 non-null    int64  \n",
            " 4   Alamine_Aminotransferase    500 non-null    int64  \n",
            " 5   Aspartate_Aminotransferase  500 non-null    int64  \n",
            " 6   Total_Protiens              500 non-null    float64\n",
            " 7   Albumin                     500 non-null    float64\n",
            " 8   Albumin_and_Globulin_Ratio  500 non-null    float64\n",
            " 9   Liver_Problem               500 non-null    int64  \n",
            " 10  Gender_Female               500 non-null    uint8  \n",
            " 11  Gender_Male                 500 non-null    uint8  \n",
            "dtypes: float64(5), int64(5), uint8(2)\n",
            "memory usage: 40.2 KB\n"
          ],
          "name": "stdout"
        }
      ]
    },
    {
      "cell_type": "code",
      "metadata": {
        "id": "i5uYqdWczoWj",
        "colab_type": "code",
        "colab": {
          "base_uri": "https://localhost:8080/",
          "height": 308
        },
        "outputId": "bc87766f-2458-4dfa-cf88-a3996cca2772"
      },
      "source": [
        "liver_data.describe()"
      ],
      "execution_count": null,
      "outputs": [
        {
          "output_type": "execute_result",
          "data": {
            "text/html": [
              "<div>\n",
              "<style scoped>\n",
              "    .dataframe tbody tr th:only-of-type {\n",
              "        vertical-align: middle;\n",
              "    }\n",
              "\n",
              "    .dataframe tbody tr th {\n",
              "        vertical-align: top;\n",
              "    }\n",
              "\n",
              "    .dataframe thead th {\n",
              "        text-align: right;\n",
              "    }\n",
              "</style>\n",
              "<table border=\"1\" class=\"dataframe\">\n",
              "  <thead>\n",
              "    <tr style=\"text-align: right;\">\n",
              "      <th></th>\n",
              "      <th>Age</th>\n",
              "      <th>Total_Bilirubin</th>\n",
              "      <th>Direct_Bilirubin</th>\n",
              "      <th>Alkaline_Phosphotase</th>\n",
              "      <th>Alamine_Aminotransferase</th>\n",
              "      <th>Aspartate_Aminotransferase</th>\n",
              "      <th>Total_Protiens</th>\n",
              "      <th>Albumin</th>\n",
              "      <th>Albumin_and_Globulin_Ratio</th>\n",
              "      <th>Liver_Problem</th>\n",
              "      <th>Gender_Female</th>\n",
              "      <th>Gender_Male</th>\n",
              "    </tr>\n",
              "  </thead>\n",
              "  <tbody>\n",
              "    <tr>\n",
              "      <th>count</th>\n",
              "      <td>500.0000</td>\n",
              "      <td>500.000000</td>\n",
              "      <td>500.000000</td>\n",
              "      <td>500.000000</td>\n",
              "      <td>500.000000</td>\n",
              "      <td>500.000000</td>\n",
              "      <td>500.00000</td>\n",
              "      <td>500.000000</td>\n",
              "      <td>500.000000</td>\n",
              "      <td>500.000000</td>\n",
              "      <td>500.000000</td>\n",
              "      <td>500.000000</td>\n",
              "    </tr>\n",
              "    <tr>\n",
              "      <th>mean</th>\n",
              "      <td>44.5860</td>\n",
              "      <td>2.603800</td>\n",
              "      <td>1.117200</td>\n",
              "      <td>296.372000</td>\n",
              "      <td>82.736000</td>\n",
              "      <td>108.820000</td>\n",
              "      <td>6.44480</td>\n",
              "      <td>3.168800</td>\n",
              "      <td>0.960907</td>\n",
              "      <td>0.700000</td>\n",
              "      <td>0.256000</td>\n",
              "      <td>0.744000</td>\n",
              "    </tr>\n",
              "    <tr>\n",
              "      <th>std</th>\n",
              "      <td>16.5334</td>\n",
              "      <td>5.120238</td>\n",
              "      <td>2.066709</td>\n",
              "      <td>257.461676</td>\n",
              "      <td>194.366775</td>\n",
              "      <td>307.093557</td>\n",
              "      <td>1.08902</td>\n",
              "      <td>0.799741</td>\n",
              "      <td>0.293107</td>\n",
              "      <td>0.458717</td>\n",
              "      <td>0.436859</td>\n",
              "      <td>0.436859</td>\n",
              "    </tr>\n",
              "    <tr>\n",
              "      <th>min</th>\n",
              "      <td>4.0000</td>\n",
              "      <td>0.400000</td>\n",
              "      <td>0.100000</td>\n",
              "      <td>63.000000</td>\n",
              "      <td>10.000000</td>\n",
              "      <td>10.000000</td>\n",
              "      <td>2.70000</td>\n",
              "      <td>0.900000</td>\n",
              "      <td>0.300000</td>\n",
              "      <td>0.000000</td>\n",
              "      <td>0.000000</td>\n",
              "      <td>0.000000</td>\n",
              "    </tr>\n",
              "    <tr>\n",
              "      <th>25%</th>\n",
              "      <td>32.7500</td>\n",
              "      <td>0.800000</td>\n",
              "      <td>0.200000</td>\n",
              "      <td>175.000000</td>\n",
              "      <td>23.000000</td>\n",
              "      <td>24.750000</td>\n",
              "      <td>5.70000</td>\n",
              "      <td>2.600000</td>\n",
              "      <td>0.800000</td>\n",
              "      <td>0.000000</td>\n",
              "      <td>0.000000</td>\n",
              "      <td>0.000000</td>\n",
              "    </tr>\n",
              "    <tr>\n",
              "      <th>50%</th>\n",
              "      <td>45.0000</td>\n",
              "      <td>0.900000</td>\n",
              "      <td>0.300000</td>\n",
              "      <td>205.500000</td>\n",
              "      <td>33.500000</td>\n",
              "      <td>40.000000</td>\n",
              "      <td>6.50000</td>\n",
              "      <td>3.100000</td>\n",
              "      <td>1.000000</td>\n",
              "      <td>1.000000</td>\n",
              "      <td>0.000000</td>\n",
              "      <td>1.000000</td>\n",
              "    </tr>\n",
              "    <tr>\n",
              "      <th>75%</th>\n",
              "      <td>58.0000</td>\n",
              "      <td>2.200000</td>\n",
              "      <td>1.000000</td>\n",
              "      <td>298.000000</td>\n",
              "      <td>59.250000</td>\n",
              "      <td>79.250000</td>\n",
              "      <td>7.20000</td>\n",
              "      <td>3.800000</td>\n",
              "      <td>1.100000</td>\n",
              "      <td>1.000000</td>\n",
              "      <td>1.000000</td>\n",
              "      <td>1.000000</td>\n",
              "    </tr>\n",
              "    <tr>\n",
              "      <th>max</th>\n",
              "      <td>85.0000</td>\n",
              "      <td>75.000000</td>\n",
              "      <td>14.200000</td>\n",
              "      <td>2110.000000</td>\n",
              "      <td>2000.000000</td>\n",
              "      <td>4929.000000</td>\n",
              "      <td>9.60000</td>\n",
              "      <td>5.500000</td>\n",
              "      <td>1.900000</td>\n",
              "      <td>1.000000</td>\n",
              "      <td>1.000000</td>\n",
              "      <td>1.000000</td>\n",
              "    </tr>\n",
              "  </tbody>\n",
              "</table>\n",
              "</div>"
            ],
            "text/plain": [
              "            Age  Total_Bilirubin  ...  Gender_Female  Gender_Male\n",
              "count  500.0000       500.000000  ...     500.000000   500.000000\n",
              "mean    44.5860         2.603800  ...       0.256000     0.744000\n",
              "std     16.5334         5.120238  ...       0.436859     0.436859\n",
              "min      4.0000         0.400000  ...       0.000000     0.000000\n",
              "25%     32.7500         0.800000  ...       0.000000     0.000000\n",
              "50%     45.0000         0.900000  ...       0.000000     1.000000\n",
              "75%     58.0000         2.200000  ...       1.000000     1.000000\n",
              "max     85.0000        75.000000  ...       1.000000     1.000000\n",
              "\n",
              "[8 rows x 12 columns]"
            ]
          },
          "metadata": {
            "tags": []
          },
          "execution_count": 59
        }
      ]
    },
    {
      "cell_type": "code",
      "metadata": {
        "id": "3fhAJkfCzrIu",
        "colab_type": "code",
        "colab": {}
      },
      "source": [
        "X = liver_data.drop(['Liver_Problem'], axis = 1)\n",
        "y = liver_data['Liver_Problem']\n",
        "from sklearn.model_selection import train_test_split\n",
        "X_train, X_test, y_train, y_test = train_test_split(X,y,test_size=0.2, random_state = 1)"
      ],
      "execution_count": null,
      "outputs": []
    },
    {
      "cell_type": "code",
      "metadata": {
        "id": "gDFN1HTKz3PC",
        "colab_type": "code",
        "colab": {
          "base_uri": "https://localhost:8080/",
          "height": 163
        },
        "outputId": "e6334390-0ea6-46e6-eb4f-36a37552b41f"
      },
      "source": [
        "from sklearn.linear_model import LogisticRegression\n",
        "model = LogisticRegression()\n",
        "model.fit(X_train, y_train)\n",
        "y_pred = model.predict(X_test)"
      ],
      "execution_count": null,
      "outputs": [
        {
          "output_type": "stream",
          "text": [
            "/usr/local/lib/python3.6/dist-packages/sklearn/linear_model/_logistic.py:940: ConvergenceWarning: lbfgs failed to converge (status=1):\n",
            "STOP: TOTAL NO. of ITERATIONS REACHED LIMIT.\n",
            "\n",
            "Increase the number of iterations (max_iter) or scale the data as shown in:\n",
            "    https://scikit-learn.org/stable/modules/preprocessing.html\n",
            "Please also refer to the documentation for alternative solver options:\n",
            "    https://scikit-learn.org/stable/modules/linear_model.html#logistic-regression\n",
            "  extra_warning_msg=_LOGISTIC_SOLVER_CONVERGENCE_MSG)\n"
          ],
          "name": "stderr"
        }
      ]
    },
    {
      "cell_type": "code",
      "metadata": {
        "id": "bZTVsBnV0L_F",
        "colab_type": "code",
        "colab": {
          "base_uri": "https://localhost:8080/",
          "height": 35
        },
        "outputId": "beb2162f-3000-4531-a7a5-fd0e765ff68f"
      },
      "source": [
        "from sklearn.metrics import accuracy_score\n",
        "acc = accuracy_score(y_test, y_pred)\n",
        "acc"
      ],
      "execution_count": null,
      "outputs": [
        {
          "output_type": "execute_result",
          "data": {
            "text/plain": [
              "0.74"
            ]
          },
          "metadata": {
            "tags": []
          },
          "execution_count": 65
        }
      ]
    },
    {
      "cell_type": "code",
      "metadata": {
        "id": "M3UFID3R0UtJ",
        "colab_type": "code",
        "colab": {
          "base_uri": "https://localhost:8080/",
          "height": 35
        },
        "outputId": "cbf3e3a9-022b-4134-f6ea-d42bf6c814e8"
      },
      "source": [
        "from sklearn.metrics import recall_score\n",
        "recall_score(y_test, y_pred)"
      ],
      "execution_count": null,
      "outputs": [
        {
          "output_type": "execute_result",
          "data": {
            "text/plain": [
              "0.9041095890410958"
            ]
          },
          "metadata": {
            "tags": []
          },
          "execution_count": 63
        }
      ]
    },
    {
      "cell_type": "code",
      "metadata": {
        "id": "z9NTFVpy0d7c",
        "colab_type": "code",
        "colab": {}
      },
      "source": [
        "from sklearn.ensemble import RandomForestClassifier\n",
        "clf = RandomForestClassifier(n_estimators=100, random_state=42)"
      ],
      "execution_count": null,
      "outputs": []
    },
    {
      "cell_type": "code",
      "metadata": {
        "id": "E8ql6DdU1Loj",
        "colab_type": "code",
        "colab": {
          "base_uri": "https://localhost:8080/",
          "height": 35
        },
        "outputId": "d7fafb9c-0a2e-4b60-a614-0228d4e14487"
      },
      "source": [
        "clf.fit(X_train, y_train)\n",
        "y_pred = clf.predict(X_test)\n",
        "print(\"Specificity with recall pos label=0: \",recall_score(y_test, y_pred, pos_label=0))"
      ],
      "execution_count": null,
      "outputs": [
        {
          "output_type": "stream",
          "text": [
            "Specificity with recall pos label=0:  0.5185185185185185\n"
          ],
          "name": "stdout"
        }
      ]
    },
    {
      "cell_type": "code",
      "metadata": {
        "id": "WhstMFFw2LpO",
        "colab_type": "code",
        "colab": {
          "base_uri": "https://localhost:8080/",
          "height": 35
        },
        "outputId": "cbbf7eee-069a-46f5-80f8-de348ec12d1c"
      },
      "source": [
        "from sklearn.metrics import precision_score\n",
        "precision_score(y_test, y_pred)"
      ],
      "execution_count": null,
      "outputs": [
        {
          "output_type": "execute_result",
          "data": {
            "text/plain": [
              "0.8169014084507042"
            ]
          },
          "metadata": {
            "tags": []
          },
          "execution_count": 69
        }
      ]
    },
    {
      "cell_type": "code",
      "metadata": {
        "id": "Z6HupBi72g_-",
        "colab_type": "code",
        "colab": {
          "base_uri": "https://localhost:8080/",
          "height": 54
        },
        "outputId": "51869353-e613-4f91-ba8b-d461fa9eba4f"
      },
      "source": [
        "from sklearn.ensemble import RandomForestClassifier\n",
        "clf = RandomForestClassifier(random_state=42)\n",
        "clf.fit(X_train, y_train)\n",
        "y_pred = clf.predict(X_test)\n",
        "print(\"Specificity with recall pos label=0: \",recall_score(y_test, y_pred, pos_label=0))\n",
        "from sklearn.metrics import f1_score\n",
        "print(\"F1 Score: \",f1_score(y_test, y_pred))"
      ],
      "execution_count": null,
      "outputs": [
        {
          "output_type": "stream",
          "text": [
            "Specificity with recall pos label=0:  0.5185185185185185\n",
            "F1 Score:  0.8055555555555557\n"
          ],
          "name": "stdout"
        }
      ]
    },
    {
      "cell_type": "code",
      "metadata": {
        "id": "ZU-zsNNc22t4",
        "colab_type": "code",
        "colab": {
          "base_uri": "https://localhost:8080/",
          "height": 35
        },
        "outputId": "8adc2ed4-ab4a-4a08-afd5-a76fe7d80d4a"
      },
      "source": [
        "from sklearn.metrics import roc_auc_score\n",
        "roc_auc_score(y_test, y_pred)"
      ],
      "execution_count": null,
      "outputs": [
        {
          "output_type": "execute_result",
          "data": {
            "text/plain": [
              "0.6565195332318621"
            ]
          },
          "metadata": {
            "tags": []
          },
          "execution_count": 72
        }
      ]
    },
    {
      "cell_type": "code",
      "metadata": {
        "id": "u260GYjS4Aah",
        "colab_type": "code",
        "colab": {}
      },
      "source": [
        "# 1: 0.6978\n",
        "# 2: 0.9991\n",
        "# 3: 219602.74\n",
        "# 4: 0.662908\n",
        "# 5: 119545.6737\n",
        "# 6: mean_absolute_error = 119545.673; R2 = 0.662908; RMSE = 226775.74218\n",
        "# 7: VOIDED\n",
        "# 8: Accuracy=0.74; Recall=0.9041\n",
        "# 9: TNR Specificity=0.51851\n",
        "# 10: Precision=0.8169014\n",
        "# 11: F1=0.80555\n",
        "# 12: roc_auc=0.656519"
      ],
      "execution_count": null,
      "outputs": []
    }
  ]
}